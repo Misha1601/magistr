{
 "cells": [
  {
   "cell_type": "markdown",
   "id": "e2e93b50",
   "metadata": {},
   "source": [
    "# Import Data"
   ]
  },
  {
   "cell_type": "code",
   "execution_count": 20,
   "id": "e5af8a44",
   "metadata": {
    "ExecuteTime": {
     "end_time": "2021-07-31T17:55:05.395527Z",
     "start_time": "2021-07-31T17:55:02.832321Z"
    }
   },
   "outputs": [],
   "source": [
    "import pandas as pd\n",
    "import cvxpy as cp\n",
    "import numpy as np\n",
    "from scipy.optimize import curve_fit\n",
    "from scipy.optimize import leastsq\n",
    "import matplotlib.pyplot as plt\n",
    "#import gdown"
   ]
  },
  {
   "attachments": {},
   "cell_type": "markdown",
   "id": "a3b6e1ca",
   "metadata": {},
   "source": [
    "Создаем DataFrame data, передаем в него имеющиеся данные, дополняем данными sales и cum_sum.\n",
    "Выводим полученный data"
   ]
  },
  {
   "cell_type": "code",
   "execution_count": 21,
   "id": "12f014a6",
   "metadata": {
    "ExecuteTime": {
     "end_time": "2021-07-31T17:55:07.087808Z",
     "start_time": "2021-07-31T17:55:07.076727Z"
    }
   },
   "outputs": [
    {
     "data": {
      "text/html": [
       "<div>\n",
       "<style scoped>\n",
       "    .dataframe tbody tr th:only-of-type {\n",
       "        vertical-align: middle;\n",
       "    }\n",
       "\n",
       "    .dataframe tbody tr th {\n",
       "        vertical-align: top;\n",
       "    }\n",
       "\n",
       "    .dataframe thead th {\n",
       "        text-align: right;\n",
       "    }\n",
       "</style>\n",
       "<table border=\"1\" class=\"dataframe\">\n",
       "  <thead>\n",
       "    <tr style=\"text-align: right;\">\n",
       "      <th></th>\n",
       "      <th>year</th>\n",
       "      <th>generate</th>\n",
       "      <th>sales</th>\n",
       "      <th>cum_sum</th>\n",
       "    </tr>\n",
       "  </thead>\n",
       "  <tbody>\n",
       "    <tr>\n",
       "      <th>0</th>\n",
       "      <td>1995</td>\n",
       "      <td>8.261923</td>\n",
       "      <td>0.000000</td>\n",
       "      <td>8.261923</td>\n",
       "    </tr>\n",
       "    <tr>\n",
       "      <th>1</th>\n",
       "      <td>1996</td>\n",
       "      <td>9.204601</td>\n",
       "      <td>0.942677</td>\n",
       "      <td>17.466524</td>\n",
       "    </tr>\n",
       "    <tr>\n",
       "      <th>2</th>\n",
       "      <td>1997</td>\n",
       "      <td>12.017816</td>\n",
       "      <td>2.813216</td>\n",
       "      <td>29.484341</td>\n",
       "    </tr>\n",
       "    <tr>\n",
       "      <th>3</th>\n",
       "      <td>1998</td>\n",
       "      <td>15.921260</td>\n",
       "      <td>3.903444</td>\n",
       "      <td>45.405601</td>\n",
       "    </tr>\n",
       "    <tr>\n",
       "      <th>4</th>\n",
       "      <td>1999</td>\n",
       "      <td>21.216174</td>\n",
       "      <td>5.294914</td>\n",
       "      <td>66.621775</td>\n",
       "    </tr>\n",
       "    <tr>\n",
       "      <th>5</th>\n",
       "      <td>2000</td>\n",
       "      <td>31.420435</td>\n",
       "      <td>10.204261</td>\n",
       "      <td>98.042209</td>\n",
       "    </tr>\n",
       "    <tr>\n",
       "      <th>6</th>\n",
       "      <td>2001</td>\n",
       "      <td>38.390452</td>\n",
       "      <td>6.970017</td>\n",
       "      <td>136.432661</td>\n",
       "    </tr>\n",
       "    <tr>\n",
       "      <th>7</th>\n",
       "      <td>2002</td>\n",
       "      <td>52.330782</td>\n",
       "      <td>13.940330</td>\n",
       "      <td>188.763443</td>\n",
       "    </tr>\n",
       "    <tr>\n",
       "      <th>8</th>\n",
       "      <td>2003</td>\n",
       "      <td>62.911395</td>\n",
       "      <td>10.580613</td>\n",
       "      <td>251.674839</td>\n",
       "    </tr>\n",
       "    <tr>\n",
       "      <th>9</th>\n",
       "      <td>2004</td>\n",
       "      <td>85.116192</td>\n",
       "      <td>22.204797</td>\n",
       "      <td>336.791031</td>\n",
       "    </tr>\n",
       "    <tr>\n",
       "      <th>10</th>\n",
       "      <td>2005</td>\n",
       "      <td>104.083880</td>\n",
       "      <td>18.967687</td>\n",
       "      <td>440.874911</td>\n",
       "    </tr>\n",
       "    <tr>\n",
       "      <th>11</th>\n",
       "      <td>2006</td>\n",
       "      <td>132.859216</td>\n",
       "      <td>28.775336</td>\n",
       "      <td>573.734127</td>\n",
       "    </tr>\n",
       "    <tr>\n",
       "      <th>12</th>\n",
       "      <td>2007</td>\n",
       "      <td>170.682621</td>\n",
       "      <td>37.823405</td>\n",
       "      <td>744.416747</td>\n",
       "    </tr>\n",
       "    <tr>\n",
       "      <th>13</th>\n",
       "      <td>2008</td>\n",
       "      <td>220.600045</td>\n",
       "      <td>49.917425</td>\n",
       "      <td>965.016793</td>\n",
       "    </tr>\n",
       "    <tr>\n",
       "      <th>14</th>\n",
       "      <td>2009</td>\n",
       "      <td>276.020526</td>\n",
       "      <td>55.420481</td>\n",
       "      <td>1241.037319</td>\n",
       "    </tr>\n",
       "    <tr>\n",
       "      <th>15</th>\n",
       "      <td>2010</td>\n",
       "      <td>346.465022</td>\n",
       "      <td>70.444496</td>\n",
       "      <td>1587.502341</td>\n",
       "    </tr>\n",
       "    <tr>\n",
       "      <th>16</th>\n",
       "      <td>2011</td>\n",
       "      <td>440.385092</td>\n",
       "      <td>93.920070</td>\n",
       "      <td>2027.887433</td>\n",
       "    </tr>\n",
       "    <tr>\n",
       "      <th>17</th>\n",
       "      <td>2012</td>\n",
       "      <td>530.554421</td>\n",
       "      <td>90.169329</td>\n",
       "      <td>2558.441854</td>\n",
       "    </tr>\n",
       "    <tr>\n",
       "      <th>18</th>\n",
       "      <td>2013</td>\n",
       "      <td>635.492051</td>\n",
       "      <td>104.937630</td>\n",
       "      <td>3193.933905</td>\n",
       "    </tr>\n",
       "    <tr>\n",
       "      <th>19</th>\n",
       "      <td>2014</td>\n",
       "      <td>705.805861</td>\n",
       "      <td>70.313810</td>\n",
       "      <td>3899.739766</td>\n",
       "    </tr>\n",
       "    <tr>\n",
       "      <th>20</th>\n",
       "      <td>2015</td>\n",
       "      <td>831.429688</td>\n",
       "      <td>125.623827</td>\n",
       "      <td>4731.169454</td>\n",
       "    </tr>\n",
       "    <tr>\n",
       "      <th>21</th>\n",
       "      <td>2016</td>\n",
       "      <td>962.227395</td>\n",
       "      <td>130.797707</td>\n",
       "      <td>5693.396850</td>\n",
       "    </tr>\n",
       "    <tr>\n",
       "      <th>22</th>\n",
       "      <td>2017</td>\n",
       "      <td>1140.310949</td>\n",
       "      <td>178.083554</td>\n",
       "      <td>6833.707799</td>\n",
       "    </tr>\n",
       "    <tr>\n",
       "      <th>23</th>\n",
       "      <td>2018</td>\n",
       "      <td>1269.520536</td>\n",
       "      <td>129.209587</td>\n",
       "      <td>8103.228334</td>\n",
       "    </tr>\n",
       "    <tr>\n",
       "      <th>24</th>\n",
       "      <td>2019</td>\n",
       "      <td>1418.170046</td>\n",
       "      <td>148.649511</td>\n",
       "      <td>9521.398381</td>\n",
       "    </tr>\n",
       "    <tr>\n",
       "      <th>25</th>\n",
       "      <td>2020</td>\n",
       "      <td>1591.213512</td>\n",
       "      <td>173.043466</td>\n",
       "      <td>11112.611893</td>\n",
       "    </tr>\n",
       "  </tbody>\n",
       "</table>\n",
       "</div>"
      ],
      "text/plain": [
       "    year     generate       sales       cum_sum\n",
       "0   1995     8.261923    0.000000      8.261923\n",
       "1   1996     9.204601    0.942677     17.466524\n",
       "2   1997    12.017816    2.813216     29.484341\n",
       "3   1998    15.921260    3.903444     45.405601\n",
       "4   1999    21.216174    5.294914     66.621775\n",
       "5   2000    31.420435   10.204261     98.042209\n",
       "6   2001    38.390452    6.970017    136.432661\n",
       "7   2002    52.330782   13.940330    188.763443\n",
       "8   2003    62.911395   10.580613    251.674839\n",
       "9   2004    85.116192   22.204797    336.791031\n",
       "10  2005   104.083880   18.967687    440.874911\n",
       "11  2006   132.859216   28.775336    573.734127\n",
       "12  2007   170.682621   37.823405    744.416747\n",
       "13  2008   220.600045   49.917425    965.016793\n",
       "14  2009   276.020526   55.420481   1241.037319\n",
       "15  2010   346.465022   70.444496   1587.502341\n",
       "16  2011   440.385092   93.920070   2027.887433\n",
       "17  2012   530.554421   90.169329   2558.441854\n",
       "18  2013   635.492051  104.937630   3193.933905\n",
       "19  2014   705.805861   70.313810   3899.739766\n",
       "20  2015   831.429688  125.623827   4731.169454\n",
       "21  2016   962.227395  130.797707   5693.396850\n",
       "22  2017  1140.310949  178.083554   6833.707799\n",
       "23  2018  1269.520536  129.209587   8103.228334\n",
       "24  2019  1418.170046  148.649511   9521.398381\n",
       "25  2020  1591.213512  173.043466  11112.611893"
      ]
     },
     "execution_count": 21,
     "metadata": {},
     "output_type": "execute_result"
    }
   ],
   "source": [
    "data = pd.DataFrame({'year': [1995, 1996, 1997, 1998, 1999, 2000, 2001, 2002, 2003, 2004, 2005, 2006, 2007, 2008, 2009, 2010, 2011, 2012, 2013, 2014, 2015, 2016, 2017, 2018, 2019, 2020],\n",
    "                     'generate': [8.26192344363636, 9.20460066059596, 12.0178164697778, 15.921260267805, 21.2161740066094, 31.420434564131, 38.3904519471421, 52.3307819867071, 62.9113953016839, 85.1161924282732, 104.083879757882, 132.859216030029, 170.682620580279, 220.600045153997, 276.020526299077, 346.465021938078, 440.385091980306, 530.55442135112, 635.49205101167, 705.805860788812, 831.42968828187, 962.227395409379, 1140.31094904253, 1269.52053571083, 1418.17004626655, 1591.2135122193]})\n",
    "data['sales'] = [0]+[data['generate'][i+1]-data['generate'][i] for i in range(data.shape[0]-1)]\n",
    "data['cum_sum'] = data['generate'].cumsum()\n",
    "data"
   ]
  },
  {
   "attachments": {},
   "cell_type": "markdown",
   "id": "1851a968",
   "metadata": {},
   "source": [
    "Создаем переменные P, Q, M, и назначаем им скорректированные данные из excel"
   ]
  },
  {
   "cell_type": "code",
   "execution_count": 22,
   "id": "030c95fe",
   "metadata": {
    "ExecuteTime": {
     "end_time": "2021-07-31T17:55:07.107622Z",
     "start_time": "2021-07-31T17:55:07.101835Z"
    }
   },
   "outputs": [],
   "source": [
    "P = 0.000572585\n",
    "Q = 0.249521952\n",
    "M = 2407.094319"
   ]
  },
  {
   "attachments": {},
   "cell_type": "markdown",
   "id": "32542bc9",
   "metadata": {},
   "source": [
    "Создаем функцию bass"
   ]
  },
  {
   "cell_type": "code",
   "execution_count": 23,
   "id": "d4e3d00c",
   "metadata": {
    "ExecuteTime": {
     "end_time": "2021-07-31T17:55:07.119576Z",
     "start_time": "2021-07-31T17:55:07.110942Z"
    }
   },
   "outputs": [],
   "source": [
    "def bass(x):\n",
    "    # return (P+(Q/M)*(x))*(M-x)\n",
    "    return P*M+(Q-P)*(x)-(Q/M)*(x**2)"
   ]
  },
  {
   "attachments": {},
   "cell_type": "markdown",
   "id": "ee55d5d1",
   "metadata": {},
   "source": [
    "создаем функцию progcum, которая возвращает список спрогнозированных значений на основе формулы Басса, \n",
    "в которой первое значение берем от реально сгенерированных данных, остальные на основе предыдущего предсказания"
   ]
  },
  {
   "cell_type": "code",
   "execution_count": 24,
   "id": "ee488096",
   "metadata": {},
   "outputs": [],
   "source": [
    "def progcum(gen):\n",
    "    a = [gen[0]]\n",
    "    for i in range(1, len(gen)):\n",
    "        a.append((bass(a[i-1]))+a[i-1])\n",
    "    return a"
   ]
  },
  {
   "attachments": {},
   "cell_type": "markdown",
   "id": "8c102a35",
   "metadata": {},
   "source": [
    "передаем эти данные в DataFrame и выводим его"
   ]
  },
  {
   "cell_type": "code",
   "execution_count": 25,
   "id": "200f32ff",
   "metadata": {},
   "outputs": [
    {
     "data": {
      "text/html": [
       "<div>\n",
       "<style scoped>\n",
       "    .dataframe tbody tr th:only-of-type {\n",
       "        vertical-align: middle;\n",
       "    }\n",
       "\n",
       "    .dataframe tbody tr th {\n",
       "        vertical-align: top;\n",
       "    }\n",
       "\n",
       "    .dataframe thead th {\n",
       "        text-align: right;\n",
       "    }\n",
       "</style>\n",
       "<table border=\"1\" class=\"dataframe\">\n",
       "  <thead>\n",
       "    <tr style=\"text-align: right;\">\n",
       "      <th></th>\n",
       "      <th>year</th>\n",
       "      <th>generate</th>\n",
       "      <th>sales</th>\n",
       "      <th>cum_sum</th>\n",
       "      <th>ProgCumul</th>\n",
       "    </tr>\n",
       "  </thead>\n",
       "  <tbody>\n",
       "    <tr>\n",
       "      <th>0</th>\n",
       "      <td>1995</td>\n",
       "      <td>8.261923</td>\n",
       "      <td>0.000000</td>\n",
       "      <td>8.261923</td>\n",
       "      <td>8.261923</td>\n",
       "    </tr>\n",
       "    <tr>\n",
       "      <th>1</th>\n",
       "      <td>1996</td>\n",
       "      <td>9.204601</td>\n",
       "      <td>0.942677</td>\n",
       "      <td>17.466524</td>\n",
       "      <td>11.689914</td>\n",
       "    </tr>\n",
       "    <tr>\n",
       "      <th>2</th>\n",
       "      <td>1997</td>\n",
       "      <td>12.017816</td>\n",
       "      <td>2.813216</td>\n",
       "      <td>29.484341</td>\n",
       "      <td>15.964211</td>\n",
       "    </tr>\n",
       "    <tr>\n",
       "      <th>3</th>\n",
       "      <td>1998</td>\n",
       "      <td>15.921260</td>\n",
       "      <td>3.903444</td>\n",
       "      <td>45.405601</td>\n",
       "      <td>21.290339</td>\n",
       "    </tr>\n",
       "    <tr>\n",
       "      <th>4</th>\n",
       "      <td>1999</td>\n",
       "      <td>21.216174</td>\n",
       "      <td>5.294914</td>\n",
       "      <td>66.621775</td>\n",
       "      <td>27.921835</td>\n",
       "    </tr>\n",
       "    <tr>\n",
       "      <th>5</th>\n",
       "      <td>2000</td>\n",
       "      <td>31.420435</td>\n",
       "      <td>10.204261</td>\n",
       "      <td>98.042209</td>\n",
       "      <td>36.170406</td>\n",
       "    </tr>\n",
       "    <tr>\n",
       "      <th>6</th>\n",
       "      <td>2001</td>\n",
       "      <td>38.390452</td>\n",
       "      <td>6.970017</td>\n",
       "      <td>136.432661</td>\n",
       "      <td>46.417653</td>\n",
       "    </tr>\n",
       "    <tr>\n",
       "      <th>7</th>\n",
       "      <td>2002</td>\n",
       "      <td>52.330782</td>\n",
       "      <td>13.940330</td>\n",
       "      <td>188.763443</td>\n",
       "      <td>59.128216</td>\n",
       "    </tr>\n",
       "    <tr>\n",
       "      <th>8</th>\n",
       "      <td>2003</td>\n",
       "      <td>62.911395</td>\n",
       "      <td>10.580613</td>\n",
       "      <td>251.674839</td>\n",
       "      <td>74.864000</td>\n",
       "    </tr>\n",
       "    <tr>\n",
       "      <th>9</th>\n",
       "      <td>2004</td>\n",
       "      <td>85.116192</td>\n",
       "      <td>22.204797</td>\n",
       "      <td>336.791031</td>\n",
       "      <td>94.298631</td>\n",
       "    </tr>\n",
       "    <tr>\n",
       "      <th>10</th>\n",
       "      <td>2005</td>\n",
       "      <td>104.083880</td>\n",
       "      <td>18.967687</td>\n",
       "      <td>440.874911</td>\n",
       "      <td>118.230703</td>\n",
       "    </tr>\n",
       "    <tr>\n",
       "      <th>11</th>\n",
       "      <td>2006</td>\n",
       "      <td>132.859216</td>\n",
       "      <td>28.775336</td>\n",
       "      <td>573.734127</td>\n",
       "      <td>147.593402</td>\n",
       "    </tr>\n",
       "    <tr>\n",
       "      <th>12</th>\n",
       "      <td>2007</td>\n",
       "      <td>170.682621</td>\n",
       "      <td>37.823405</td>\n",
       "      <td>744.416747</td>\n",
       "      <td>183.456819</td>\n",
       "    </tr>\n",
       "    <tr>\n",
       "      <th>13</th>\n",
       "      <td>2008</td>\n",
       "      <td>220.600045</td>\n",
       "      <td>49.917425</td>\n",
       "      <td>965.016793</td>\n",
       "      <td>227.017686</td>\n",
       "    </tr>\n",
       "    <tr>\n",
       "      <th>14</th>\n",
       "      <td>2009</td>\n",
       "      <td>276.020526</td>\n",
       "      <td>55.420481</td>\n",
       "      <td>1241.037319</td>\n",
       "      <td>279.569478</td>\n",
       "    </tr>\n",
       "    <tr>\n",
       "      <th>15</th>\n",
       "      <td>2010</td>\n",
       "      <td>346.465022</td>\n",
       "      <td>70.444496</td>\n",
       "      <td>1587.502341</td>\n",
       "      <td>342.444334</td>\n",
       "    </tr>\n",
       "    <tr>\n",
       "      <th>16</th>\n",
       "      <td>2011</td>\n",
       "      <td>440.385092</td>\n",
       "      <td>93.920070</td>\n",
       "      <td>2027.887433</td>\n",
       "      <td>416.917762</td>\n",
       "    </tr>\n",
       "    <tr>\n",
       "      <th>17</th>\n",
       "      <td>2012</td>\n",
       "      <td>530.554421</td>\n",
       "      <td>90.169329</td>\n",
       "      <td>2558.441854</td>\n",
       "      <td>504.069032</td>\n",
       "    </tr>\n",
       "    <tr>\n",
       "      <th>18</th>\n",
       "      <td>2013</td>\n",
       "      <td>635.492051</td>\n",
       "      <td>104.937630</td>\n",
       "      <td>3193.933905</td>\n",
       "      <td>604.596183</td>\n",
       "    </tr>\n",
       "    <tr>\n",
       "      <th>19</th>\n",
       "      <td>2014</td>\n",
       "      <td>705.805861</td>\n",
       "      <td>70.313810</td>\n",
       "      <td>3899.739766</td>\n",
       "      <td>718.596380</td>\n",
       "    </tr>\n",
       "    <tr>\n",
       "      <th>20</th>\n",
       "      <td>2015</td>\n",
       "      <td>831.429688</td>\n",
       "      <td>125.623827</td>\n",
       "      <td>4731.169454</td>\n",
       "      <td>845.340182</td>\n",
       "    </tr>\n",
       "    <tr>\n",
       "      <th>21</th>\n",
       "      <td>2016</td>\n",
       "      <td>962.227395</td>\n",
       "      <td>130.797707</td>\n",
       "      <td>5693.396850</td>\n",
       "      <td>983.089155</td>\n",
       "    </tr>\n",
       "    <tr>\n",
       "      <th>22</th>\n",
       "      <td>2017</td>\n",
       "      <td>1140.310949</td>\n",
       "      <td>178.083554</td>\n",
       "      <td>6833.707799</td>\n",
       "      <td>1129.022130</td>\n",
       "    </tr>\n",
       "    <tr>\n",
       "      <th>23</th>\n",
       "      <td>2018</td>\n",
       "      <td>1269.520536</td>\n",
       "      <td>129.209587</td>\n",
       "      <td>8103.228334</td>\n",
       "      <td>1279.333922</td>\n",
       "    </tr>\n",
       "    <tr>\n",
       "      <th>24</th>\n",
       "      <td>2019</td>\n",
       "      <td>1418.170046</td>\n",
       "      <td>148.649511</td>\n",
       "      <td>9521.398381</td>\n",
       "      <td>1429.539987</td>\n",
       "    </tr>\n",
       "    <tr>\n",
       "      <th>25</th>\n",
       "      <td>2020</td>\n",
       "      <td>1591.213512</td>\n",
       "      <td>173.043466</td>\n",
       "      <td>11112.611893</td>\n",
       "      <td>1574.961182</td>\n",
       "    </tr>\n",
       "  </tbody>\n",
       "</table>\n",
       "</div>"
      ],
      "text/plain": [
       "    year     generate       sales       cum_sum    ProgCumul\n",
       "0   1995     8.261923    0.000000      8.261923     8.261923\n",
       "1   1996     9.204601    0.942677     17.466524    11.689914\n",
       "2   1997    12.017816    2.813216     29.484341    15.964211\n",
       "3   1998    15.921260    3.903444     45.405601    21.290339\n",
       "4   1999    21.216174    5.294914     66.621775    27.921835\n",
       "5   2000    31.420435   10.204261     98.042209    36.170406\n",
       "6   2001    38.390452    6.970017    136.432661    46.417653\n",
       "7   2002    52.330782   13.940330    188.763443    59.128216\n",
       "8   2003    62.911395   10.580613    251.674839    74.864000\n",
       "9   2004    85.116192   22.204797    336.791031    94.298631\n",
       "10  2005   104.083880   18.967687    440.874911   118.230703\n",
       "11  2006   132.859216   28.775336    573.734127   147.593402\n",
       "12  2007   170.682621   37.823405    744.416747   183.456819\n",
       "13  2008   220.600045   49.917425    965.016793   227.017686\n",
       "14  2009   276.020526   55.420481   1241.037319   279.569478\n",
       "15  2010   346.465022   70.444496   1587.502341   342.444334\n",
       "16  2011   440.385092   93.920070   2027.887433   416.917762\n",
       "17  2012   530.554421   90.169329   2558.441854   504.069032\n",
       "18  2013   635.492051  104.937630   3193.933905   604.596183\n",
       "19  2014   705.805861   70.313810   3899.739766   718.596380\n",
       "20  2015   831.429688  125.623827   4731.169454   845.340182\n",
       "21  2016   962.227395  130.797707   5693.396850   983.089155\n",
       "22  2017  1140.310949  178.083554   6833.707799  1129.022130\n",
       "23  2018  1269.520536  129.209587   8103.228334  1279.333922\n",
       "24  2019  1418.170046  148.649511   9521.398381  1429.539987\n",
       "25  2020  1591.213512  173.043466  11112.611893  1574.961182"
      ]
     },
     "execution_count": 25,
     "metadata": {},
     "output_type": "execute_result"
    }
   ],
   "source": [
    "data['ProgCumul'] = progcum(data['generate'])\n",
    "data"
   ]
  },
  {
   "attachments": {},
   "cell_type": "markdown",
   "id": "165ef40b",
   "metadata": {},
   "source": [
    "Полученные данные соответсвуюх excel файлу, создадим функцию вывода данных в график и выведем полученные графики"
   ]
  },
  {
   "cell_type": "code",
   "execution_count": 26,
   "id": "8d291cd3",
   "metadata": {},
   "outputs": [
    {
     "data": {
      "image/png": "[encoded data removed]",
      "text/plain": [
       "<Figure size 640x480 with 1 Axes>"
      ]
     },
     "metadata": {},
     "output_type": "display_data"
    }
   ],
   "source": [
    "def grafik(a = data.ProgCumul):\n",
    "    plt.plot(data.year, data.generate, 'b-', label='generate')\n",
    "    plt.plot(data.year, a, 'r-', label='PrognoseCumulative')\n",
    "    plt.xlabel('year')\n",
    "    plt.ylabel('generate')\n",
    "    plt.legend()\n",
    "    plt.show()\n",
    "grafik()"
   ]
  },
  {
   "attachments": {},
   "cell_type": "markdown",
   "id": "0bd63fd2",
   "metadata": {},
   "source": [
    "сгенерируем параметры P,Q,M через модуль scypy и выведем полученные данные в график,\n",
    "прелыдущие P,Q,M сохраним в переменную, что бы сравнивать"
   ]
  },
  {
   "cell_type": "code",
   "execution_count": 27,
   "id": "e862ecf8",
   "metadata": {},
   "outputs": [
    {
     "name": "stdout",
     "output_type": "stream",
     "text": [
      "P - 0.00044, Q - 0.21799, M - 26421.35666\n",
      "P - 0.00057, Q - 0.24952, M - 2407.09432\n"
     ]
    }
   ],
   "source": [
    "def bass2(x, p, q, m):\n",
    "    # return (p+(q/m)*(x))*(m-x)\n",
    "    return (p*m+(q-p)*(x))-(q/m)*(x**2)\n",
    "# popt, pcov = curve_fit(bass2, data.cum_sum[0:26], data.generate[0:26], maxfev = 5000)\n",
    "popt, pcov = curve_fit(bass2, data.cum_sum[1:23], data.generate[1:23], maxfev = 5000)\n",
    "\n",
    "PQM = [P, Q, M]\n",
    "print(f'P - {round(popt[0],5)}, Q - {round(popt[1],5)}, M - {round(popt[2],5)}')\n",
    "print(f'P - {round(P,5)}, Q - {round(Q,5)}, M - {round(M,5)}')"
   ]
  },
  {
   "attachments": {},
   "cell_type": "markdown",
   "id": "3f92721c",
   "metadata": {},
   "source": [
    "Из полученных данных видно, что не соответствует только параметр M. При этом, если используем все данные (25 значений), то появляются отрицательные значения.\n",
    "Перепишем DataFrame на основе новых данных и выведем в график"
   ]
  },
  {
   "cell_type": "code",
   "execution_count": 28,
   "id": "75d48563",
   "metadata": {},
   "outputs": [
    {
     "data": {
      "image/png": "[encoded data removed]",
      "text/plain": [
       "<Figure size 640x480 with 1 Axes>"
      ]
     },
     "metadata": {},
     "output_type": "display_data"
    }
   ],
   "source": [
    "P = popt[0]\n",
    "Q = popt[1]\n",
    "M = popt[2]\n",
    "data['ProgCumul1'] = progcum(data['generate'])\n",
    "grafik(data.ProgCumul1)"
   ]
  },
  {
   "attachments": {},
   "cell_type": "markdown",
   "id": "4e949f4e",
   "metadata": {},
   "source": [
    "проверим, что получится если сгенерировать P, Q, M на основе сгенерированных данных и года генерации"
   ]
  },
  {
   "cell_type": "code",
   "execution_count": 29,
   "id": "ed0c9378",
   "metadata": {},
   "outputs": [
    {
     "data": {
      "image/png": "[encoded data removed]",
      "text/plain": [
       "<Figure size 640x480 with 1 Axes>"
      ]
     },
     "metadata": {},
     "output_type": "display_data"
    }
   ],
   "source": [
    "plt.plot(data.year, data.generate, 'b-', label='generation')\n",
    "\n",
    "popt, pcov = curve_fit(bass2, data.year, data.generate, maxfev = 10000)\n",
    "plt.plot(data.year, bass2(data.year, *popt), 'r-',\n",
    "         label='fit: p=%5.3f, q=%5.3f, m=%5.3f' % tuple(popt))\n",
    "plt.xlabel('year')\n",
    "plt.ylabel('generate')\n",
    "plt.legend()\n",
    "plt.show()"
   ]
  },
  {
   "attachments": {},
   "cell_type": "markdown",
   "id": "2a2b55e0",
   "metadata": {},
   "source": [
    "Функцию почти получилось притянуть к данным, но несоответствие в самом начале графика, да и параметры p,q,m (отображены на графике) далеки от тех что высчитываем в excel"
   ]
  },
  {
   "attachments": {},
   "cell_type": "markdown",
   "id": "f1a4a5eb",
   "metadata": {},
   "source": [
    "Можно попробовать использовать библиотеку CVXPY (https://www.cvxpy.org/tutorial/intro/index.html)\n",
    "Судя по статье (https://www.solvermax.com/blog/optimization-in-excel-vs-python), значения получаются идентичными excel.\n",
    "Но тут мне уже не хватает математики, или не хватает понимания работы с данной библиотекой\n",
    "\n",
    "Определяем 3 переменные "
   ]
  },
  {
   "cell_type": "code",
   "execution_count": 30,
   "id": "ba72bd19",
   "metadata": {},
   "outputs": [],
   "source": [
    "P1 = cp.Variable()\n",
    "Q1 = cp.Variable()\n",
    "M1 = cp.Variable()"
   ]
  },
  {
   "attachments": {},
   "cell_type": "markdown",
   "id": "ebe44936",
   "metadata": {},
   "source": [
    "В описании библиотеки указано, что она работает с массивами numpy, передадим значения времени и генерации из нашего датафрэйма"
   ]
  },
  {
   "cell_type": "code",
   "execution_count": 31,
   "id": "eb1be5af",
   "metadata": {},
   "outputs": [
    {
     "data": {
      "text/plain": [
       "array([1995, 1996, 1997, 1998, 1999, 2000, 2001, 2002, 2003, 2004, 2005,\n",
       "       2006, 2007, 2008, 2009, 2010, 2011, 2012, 2013, 2014, 2015, 2016,\n",
       "       2017, 2018, 2019, 2020], dtype=int64)"
      ]
     },
     "execution_count": 31,
     "metadata": {},
     "output_type": "execute_result"
    }
   ],
   "source": [
    "generateN = np.array(data.generate)\n",
    "yearN = np.array(data.year)\n",
    "yearN\n",
    "# generateN\n"
   ]
  },
  {
   "attachments": {},
   "cell_type": "markdown",
   "id": "fa1c2937",
   "metadata": {},
   "source": [
    "Теперь заполним Prognose \"Sales\" и Prognose Cumulative.\n",
    "Создаем функцию в которую передаём данные генерации и выводим 2 списка, которые сразу присваиваем переменным переменным numpy"
   ]
  },
  {
   "cell_type": "code",
   "execution_count": 32,
   "id": "1562204a",
   "metadata": {},
   "outputs": [
    {
     "data": {
      "text/plain": [
       "array([Expression(UNKNOWN, UNKNOWN, ()), Expression(UNKNOWN, UNKNOWN, ()),\n",
       "       Expression(UNKNOWN, UNKNOWN, ()), Expression(UNKNOWN, UNKNOWN, ()),\n",
       "       Expression(UNKNOWN, UNKNOWN, ()), Expression(UNKNOWN, UNKNOWN, ()),\n",
       "       Expression(UNKNOWN, UNKNOWN, ()), Expression(UNKNOWN, UNKNOWN, ()),\n",
       "       Expression(UNKNOWN, UNKNOWN, ()), Expression(UNKNOWN, UNKNOWN, ()),\n",
       "       Expression(UNKNOWN, UNKNOWN, ()), Expression(UNKNOWN, UNKNOWN, ()),\n",
       "       Expression(UNKNOWN, UNKNOWN, ()), Expression(UNKNOWN, UNKNOWN, ()),\n",
       "       Expression(UNKNOWN, UNKNOWN, ()), Expression(UNKNOWN, UNKNOWN, ()),\n",
       "       Expression(UNKNOWN, UNKNOWN, ()), Expression(UNKNOWN, UNKNOWN, ()),\n",
       "       Expression(UNKNOWN, UNKNOWN, ()), Expression(UNKNOWN, UNKNOWN, ()),\n",
       "       Expression(UNKNOWN, UNKNOWN, ()), Expression(UNKNOWN, UNKNOWN, ()),\n",
       "       Expression(UNKNOWN, UNKNOWN, ()), Expression(UNKNOWN, UNKNOWN, ()),\n",
       "       Expression(UNKNOWN, UNKNOWN, ()), Expression(UNKNOWN, UNKNOWN, ())],\n",
       "      dtype=object)"
      ]
     },
     "execution_count": 32,
     "metadata": {},
     "output_type": "execute_result"
    }
   ],
   "source": [
    "# def sale_cum(year):\n",
    "    # s = [0]\n",
    "    # c = [gen[0]]\n",
    "    # for i in range(1, len(gen)-1):\n",
    "    #     s.append(bass2(c[-1], P1, Q1, M1))\n",
    "    #     # s.append(bass(c[-1]))\n",
    "    #     c.append(c[i-1]+s[i])\n",
    "\n",
    "    # return (bass2(i, P1, Q1, M1) for i in year)\n",
    "# print(sale_cum(data.generate))\n",
    "\n",
    "# len(data.generate)\n",
    "# progsalN = np.array(list(sale_cum(generateN)))\n",
    "progsalN = np.array([bass2(i, P1, Q1, M1) for i in yearN])\n",
    "# progcumN = np.array([sale_cum(generareN)[1]])\n",
    "# print(len(progsalN))\n",
    "# print(len(generateN))\n",
    "progsalN"
   ]
  },
  {
   "attachments": {},
   "cell_type": "markdown",
   "id": "d9318e1d",
   "metadata": {},
   "source": [
    "Далее создаем objective"
   ]
  },
  {
   "cell_type": "code",
   "execution_count": 33,
   "id": "9509ac28",
   "metadata": {},
   "outputs": [
    {
     "ename": "ValueError",
     "evalue": "setting an array element with a sequence.",
     "output_type": "error",
     "traceback": [
      "\u001b[1;31m---------------------------------------------------------------------------\u001b[0m",
      "\u001b[1;31mTypeError\u001b[0m                                 Traceback (most recent call last)",
      "\u001b[1;31mTypeError\u001b[0m: float() argument must be a string or a real number, not 'AddExpression'",
      "\nThe above exception was the direct cause of the following exception:\n",
      "\u001b[1;31mValueError\u001b[0m                                Traceback (most recent call last)",
      "Cell \u001b[1;32mIn[33], line 1\u001b[0m\n\u001b[1;32m----> 1\u001b[0m objective \u001b[39m=\u001b[39m cp\u001b[39m.\u001b[39mMinimize(cp\u001b[39m.\u001b[39;49msum_squares(progsalN \u001b[39m-\u001b[39;49m generateN))\n\u001b[0;32m      2\u001b[0m \u001b[39m# obj = cp.Minimize((progsalN - generateN)**2)\u001b[39;00m\n",
      "File \u001b[1;32mc:\\projects\\magistr\\env\\lib\\site-packages\\cvxpy\\atoms\\sum_squares.py:33\u001b[0m, in \u001b[0;36msum_squares\u001b[1;34m(expr)\u001b[0m\n\u001b[0;32m     20\u001b[0m \u001b[39mdef\u001b[39;00m \u001b[39msum_squares\u001b[39m(expr):\n\u001b[0;32m     21\u001b[0m \u001b[39m    \u001b[39m\u001b[39m\"\"\"The sum of the squares of the entries.\u001b[39;00m\n\u001b[0;32m     22\u001b[0m \n\u001b[0;32m     23\u001b[0m \u001b[39m    Parameters\u001b[39;00m\n\u001b[1;32m   (...)\u001b[0m\n\u001b[0;32m     31\u001b[0m \u001b[39m        An expression representing the sum of squares.\u001b[39;00m\n\u001b[0;32m     32\u001b[0m \u001b[39m    \"\"\"\u001b[39;00m\n\u001b[1;32m---> 33\u001b[0m     \u001b[39mreturn\u001b[39;00m quad_over_lin(expr, \u001b[39m1\u001b[39;49m)\n",
      "File \u001b[1;32mc:\\projects\\magistr\\env\\lib\\site-packages\\cvxpy\\atoms\\quad_over_lin.py:34\u001b[0m, in \u001b[0;36mquad_over_lin.__init__\u001b[1;34m(self, x, y)\u001b[0m\n\u001b[0;32m     33\u001b[0m \u001b[39mdef\u001b[39;00m \u001b[39m__init__\u001b[39m(\u001b[39mself\u001b[39m, x, y) \u001b[39m-\u001b[39m\u001b[39m>\u001b[39m \u001b[39mNone\u001b[39;00m:\n\u001b[1;32m---> 34\u001b[0m     \u001b[39msuper\u001b[39;49m(quad_over_lin, \u001b[39mself\u001b[39;49m)\u001b[39m.\u001b[39;49m\u001b[39m__init__\u001b[39;49m(x, y)\n",
      "File \u001b[1;32mc:\\projects\\magistr\\env\\lib\\site-packages\\cvxpy\\atoms\\atom.py:49\u001b[0m, in \u001b[0;36mAtom.__init__\u001b[1;34m(self, *args)\u001b[0m\n\u001b[0;32m     45\u001b[0m     \u001b[39mraise\u001b[39;00m \u001b[39mTypeError\u001b[39;00m(\n\u001b[0;32m     46\u001b[0m         \u001b[39m\"\u001b[39m\u001b[39mNo arguments given to \u001b[39m\u001b[39m%s\u001b[39;00m\u001b[39m.\u001b[39m\u001b[39m\"\u001b[39m \u001b[39m%\u001b[39m \u001b[39mself\u001b[39m\u001b[39m.\u001b[39m\u001b[39m__class__\u001b[39m\u001b[39m.\u001b[39m\u001b[39m__name__\u001b[39m\n\u001b[0;32m     47\u001b[0m     )\n\u001b[0;32m     48\u001b[0m \u001b[39m# Convert raw values to Constants.\u001b[39;00m\n\u001b[1;32m---> 49\u001b[0m \u001b[39mself\u001b[39m\u001b[39m.\u001b[39margs \u001b[39m=\u001b[39m [Atom\u001b[39m.\u001b[39mcast_to_const(arg) \u001b[39mfor\u001b[39;00m arg \u001b[39min\u001b[39;00m args]\n\u001b[0;32m     50\u001b[0m \u001b[39mself\u001b[39m\u001b[39m.\u001b[39mvalidate_arguments()\n\u001b[0;32m     51\u001b[0m \u001b[39mself\u001b[39m\u001b[39m.\u001b[39m_shape \u001b[39m=\u001b[39m \u001b[39mself\u001b[39m\u001b[39m.\u001b[39mshape_from_args()\n",
      "File \u001b[1;32mc:\\projects\\magistr\\env\\lib\\site-packages\\cvxpy\\atoms\\atom.py:49\u001b[0m, in \u001b[0;36m<listcomp>\u001b[1;34m(.0)\u001b[0m\n\u001b[0;32m     45\u001b[0m     \u001b[39mraise\u001b[39;00m \u001b[39mTypeError\u001b[39;00m(\n\u001b[0;32m     46\u001b[0m         \u001b[39m\"\u001b[39m\u001b[39mNo arguments given to \u001b[39m\u001b[39m%s\u001b[39;00m\u001b[39m.\u001b[39m\u001b[39m\"\u001b[39m \u001b[39m%\u001b[39m \u001b[39mself\u001b[39m\u001b[39m.\u001b[39m\u001b[39m__class__\u001b[39m\u001b[39m.\u001b[39m\u001b[39m__name__\u001b[39m\n\u001b[0;32m     47\u001b[0m     )\n\u001b[0;32m     48\u001b[0m \u001b[39m# Convert raw values to Constants.\u001b[39;00m\n\u001b[1;32m---> 49\u001b[0m \u001b[39mself\u001b[39m\u001b[39m.\u001b[39margs \u001b[39m=\u001b[39m [Atom\u001b[39m.\u001b[39;49mcast_to_const(arg) \u001b[39mfor\u001b[39;00m arg \u001b[39min\u001b[39;00m args]\n\u001b[0;32m     50\u001b[0m \u001b[39mself\u001b[39m\u001b[39m.\u001b[39mvalidate_arguments()\n\u001b[0;32m     51\u001b[0m \u001b[39mself\u001b[39m\u001b[39m.\u001b[39m_shape \u001b[39m=\u001b[39m \u001b[39mself\u001b[39m\u001b[39m.\u001b[39mshape_from_args()\n",
      "File \u001b[1;32mc:\\projects\\magistr\\env\\lib\\site-packages\\cvxpy\\expressions\\expression.py:526\u001b[0m, in \u001b[0;36mExpression.cast_to_const\u001b[1;34m(expr)\u001b[0m\n\u001b[0;32m    521\u001b[0m         \u001b[39mif\u001b[39;00m \u001b[39misinstance\u001b[39m(elem, Expression):\n\u001b[0;32m    522\u001b[0m             \u001b[39mraise\u001b[39;00m \u001b[39mValueError\u001b[39;00m(\n\u001b[0;32m    523\u001b[0m                 \u001b[39m\"\u001b[39m\u001b[39mThe input must be a single CVXPY Expression, not a list. \u001b[39m\u001b[39m\"\u001b[39m\n\u001b[0;32m    524\u001b[0m                 \u001b[39m\"\u001b[39m\u001b[39mCombine Expressions using atoms such as bmat, hstack, and vstack.\u001b[39m\u001b[39m\"\u001b[39m\n\u001b[0;32m    525\u001b[0m             )\n\u001b[1;32m--> 526\u001b[0m \u001b[39mreturn\u001b[39;00m expr \u001b[39mif\u001b[39;00m \u001b[39misinstance\u001b[39m(expr, Expression) \u001b[39melse\u001b[39;00m cvxtypes\u001b[39m.\u001b[39;49mconstant()(expr)\n",
      "File \u001b[1;32mc:\\projects\\magistr\\env\\lib\\site-packages\\cvxpy\\expressions\\constants\\constant.py:48\u001b[0m, in \u001b[0;36mConstant.__init__\u001b[1;34m(self, value)\u001b[0m\n\u001b[0;32m     46\u001b[0m     \u001b[39mself\u001b[39m\u001b[39m.\u001b[39m_sparse \u001b[39m=\u001b[39m \u001b[39mTrue\u001b[39;00m\n\u001b[0;32m     47\u001b[0m \u001b[39melse\u001b[39;00m:\n\u001b[1;32m---> 48\u001b[0m     \u001b[39mself\u001b[39m\u001b[39m.\u001b[39m_value \u001b[39m=\u001b[39m intf\u001b[39m.\u001b[39;49mDEFAULT_INTF\u001b[39m.\u001b[39;49mconst_to_matrix(value)\n\u001b[0;32m     49\u001b[0m     \u001b[39mself\u001b[39m\u001b[39m.\u001b[39m_sparse \u001b[39m=\u001b[39m \u001b[39mFalse\u001b[39;00m\n\u001b[0;32m     50\u001b[0m \u001b[39mself\u001b[39m\u001b[39m.\u001b[39m_imag: Optional[\u001b[39mbool\u001b[39m] \u001b[39m=\u001b[39m \u001b[39mNone\u001b[39;00m\n",
      "File \u001b[1;32mc:\\projects\\magistr\\env\\lib\\site-packages\\cvxpy\\interface\\numpy_interface\\ndarray_interface.py:53\u001b[0m, in \u001b[0;36mNDArrayInterface.const_to_matrix\u001b[1;34m(self, value, convert_scalars)\u001b[0m\n\u001b[0;32m     51\u001b[0m     \u001b[39mreturn\u001b[39;00m result\n\u001b[0;32m     52\u001b[0m \u001b[39melse\u001b[39;00m:\n\u001b[1;32m---> 53\u001b[0m     \u001b[39mreturn\u001b[39;00m result\u001b[39m.\u001b[39;49mastype(numpy\u001b[39m.\u001b[39;49mfloat64)\n",
      "\u001b[1;31mValueError\u001b[0m: setting an array element with a sequence."
     ]
    }
   ],
   "source": [
    "objective = cp.Minimize(cp.sum_squares(progsalN - generateN))\n",
    "# obj = cp.Minimize((progsalN - generateN)**2)"
   ]
  },
  {
   "attachments": {},
   "cell_type": "markdown",
   "id": "a84502e0",
   "metadata": {},
   "source": [
    "Укажем что параметры P, Q, M должны быть больше 0"
   ]
  },
  {
   "cell_type": "code",
   "execution_count": null,
   "id": "115ac78e",
   "metadata": {},
   "outputs": [],
   "source": [
    "constraints = [P1 >= 0, Q1 >= 0, M1 >= 0]"
   ]
  },
  {
   "attachments": {},
   "cell_type": "markdown",
   "id": "5166f95e",
   "metadata": {},
   "source": [
    "Сформулируем и решим проблему"
   ]
  },
  {
   "cell_type": "code",
   "execution_count": null,
   "id": "187671e0",
   "metadata": {},
   "outputs": [
    {
     "ename": "NameError",
     "evalue": "name 'objective' is not defined",
     "output_type": "error",
     "traceback": [
      "\u001b[1;31m---------------------------------------------------------------------------\u001b[0m",
      "\u001b[1;31mNameError\u001b[0m                                 Traceback (most recent call last)",
      "Cell \u001b[1;32mIn[14], line 1\u001b[0m\n\u001b[1;32m----> 1\u001b[0m prob \u001b[39m=\u001b[39m cp\u001b[39m.\u001b[39mProblem(objective, constraints)\n\u001b[0;32m      2\u001b[0m result \u001b[39m=\u001b[39m prob\u001b[39m.\u001b[39msolve()\n\u001b[0;32m      3\u001b[0m \u001b[39mprint\u001b[39m(P1\u001b[39m.\u001b[39mvalue)\n",
      "\u001b[1;31mNameError\u001b[0m: name 'objective' is not defined"
     ]
    }
   ],
   "source": [
    "prob = cp.Problem(objective, constraints)\n",
    "result = prob.solve()\n",
    "print(P1.value)\n",
    "print(Q1.value)\n",
    "print(M1.value)"
   ]
  },
  {
   "cell_type": "code",
   "execution_count": null,
   "id": "9eb3853f",
   "metadata": {},
   "outputs": [
    {
     "data": {
      "text/plain": [
       "4722.497140329559"
      ]
     },
     "execution_count": 39,
     "metadata": {},
     "output_type": "execute_result"
    }
   ],
   "source": [
    "def squaremist(a, b):\n",
    "    c = []\n",
    "    for i in range(len(a)):\n",
    "        c.append((b[i]-a[i])**2)\n",
    "    return(sum(c))\n",
    "# squaremist(data['generate'], data['ProgCumul'])\n",
    "\n",
    "# objective = cp.Minimize(cp.sum(squaremist(data['generate'], progcum(data['generate']))))\n",
    "# constraints = [P >= 0, Q >= 0, M >= 0]\n",
    "# prob = cp.Problem(objective)\n",
    "# result = prob.solve()\n",
    "# print(P.value)\n",
    "# print(Q.value)\n",
    "# print(M.value)\n",
    "# print(objective)"
   ]
  }
 ],
 "metadata": {
  "hide_input": false,
  "kernelspec": {
   "display_name": "env",
   "language": "python",
   "name": "python3"
  },
  "language_info": {
   "codemirror_mode": {
    "name": "ipython",
    "version": 3
   },
   "file_extension": ".py",
   "mimetype": "text/x-python",
   "name": "python",
   "nbconvert_exporter": "python",
   "pygments_lexer": "ipython3",
   "version": "3.10.9"
  },
  "toc": {
   "base_numbering": 1,
   "nav_menu": {},
   "number_sections": true,
   "sideBar": true,
   "skip_h1_title": false,
   "title_cell": "Table of Contents",
   "title_sidebar": "Contents",
   "toc_cell": false,
   "toc_position": {},
   "toc_section_display": true,
   "toc_window_display": false
  },
  "varInspector": {
   "cols": {
    "lenName": 16,
    "lenType": 16,
    "lenVar": 40
   },
   "kernels_config": {
    "python": {
     "delete_cmd_postfix": "",
     "delete_cmd_prefix": "del ",
     "library": "var_list.py",
     "varRefreshCmd": "print(var_dic_list())"
    },
    "r": {
     "delete_cmd_postfix": ") ",
     "delete_cmd_prefix": "rm(",
     "library": "var_list.r",
     "varRefreshCmd": "cat(var_dic_list()) "
    }
   },
   "types_to_exclude": [
    "module",
    "function",
    "builtin_function_or_method",
    "instance",
    "_Feature"
   ],
   "window_display": false
  },
  "vscode": {
   "interpreter": {
    "hash": "6506713cf16ac6e3e30c9d512a786f2c7da9704987d96361f878f3ab0aecc10d"
   }
  }
 },
 "nbformat": 4,
 "nbformat_minor": 5
}

{
 "cells": [
  {
   "cell_type": "markdown",
   "id": "e2e93b50",
   "metadata": {},
   "source": [
    "# Import Data"
   ]
  },
  {
   "cell_type": "code",
   "execution_count": 2,
   "id": "e5af8a44",
   "metadata": {
    "ExecuteTime": {
     "end_time": "2021-07-31T17:55:05.395527Z",
     "start_time": "2021-07-31T17:55:02.832321Z"
    }
   },
   "outputs": [
    {
     "ename": "ModuleNotFoundError",
     "evalue": "No module named 'cvxpy'",
     "output_type": "error",
     "traceback": [
      "\u001b[0;31m---------------------------------------------------------------------------\u001b[0m",
      "\u001b[0;31mModuleNotFoundError\u001b[0m                       Traceback (most recent call last)",
      "Cell \u001b[0;32mIn[2], line 2\u001b[0m\n\u001b[1;32m      1\u001b[0m \u001b[39mimport\u001b[39;00m \u001b[39mpandas\u001b[39;00m \u001b[39mas\u001b[39;00m \u001b[39mpd\u001b[39;00m\n\u001b[0;32m----> 2\u001b[0m \u001b[39mimport\u001b[39;00m \u001b[39mcvxpy\u001b[39;00m \u001b[39mas\u001b[39;00m \u001b[39mcp\u001b[39;00m\n\u001b[1;32m      3\u001b[0m \u001b[39mimport\u001b[39;00m \u001b[39mnumpy\u001b[39;00m \u001b[39mas\u001b[39;00m \u001b[39mnp\u001b[39;00m\n\u001b[1;32m      4\u001b[0m \u001b[39mfrom\u001b[39;00m \u001b[39mscipy\u001b[39;00m\u001b[39m.\u001b[39;00m\u001b[39moptimize\u001b[39;00m \u001b[39mimport\u001b[39;00m curve_fit\n",
      "\u001b[0;31mModuleNotFoundError\u001b[0m: No module named 'cvxpy'"
     ]
    }
   ],
   "source": [
    "import pandas as pd\n",
    "import cvxpy as cp\n",
    "import numpy as np\n",
    "from scipy.optimize import curve_fit\n",
    "import matplotlib.pyplot as plt\n",
    "#import gdown"
   ]
  },
  {
   "attachments": {},
   "cell_type": "markdown",
   "id": "a3b6e1ca",
   "metadata": {},
   "source": [
    "Создаем DataFrame data, передаем в него имеющиеся данные, дополняем данными sales и cum_sum.\n",
    "Выводим полученный data"
   ]
  },
  {
   "cell_type": "code",
   "execution_count": null,
   "id": "12f014a6",
   "metadata": {
    "ExecuteTime": {
     "end_time": "2021-07-31T17:55:07.087808Z",
     "start_time": "2021-07-31T17:55:07.076727Z"
    }
   },
   "outputs": [
    {
     "data": {
      "text/html": [
       "<div>\n",
       "<style scoped>\n",
       "    .dataframe tbody tr th:only-of-type {\n",
       "        vertical-align: middle;\n",
       "    }\n",
       "\n",
       "    .dataframe tbody tr th {\n",
       "        vertical-align: top;\n",
       "    }\n",
       "\n",
       "    .dataframe thead th {\n",
       "        text-align: right;\n",
       "    }\n",
       "</style>\n",
       "<table border=\"1\" class=\"dataframe\">\n",
       "  <thead>\n",
       "    <tr style=\"text-align: right;\">\n",
       "      <th></th>\n",
       "      <th>year</th>\n",
       "      <th>generate</th>\n",
       "      <th>sales</th>\n",
       "      <th>cum_sum</th>\n",
       "    </tr>\n",
       "  </thead>\n",
       "  <tbody>\n",
       "    <tr>\n",
       "      <th>0</th>\n",
       "      <td>1995</td>\n",
       "      <td>8.261923</td>\n",
       "      <td>0.000000</td>\n",
       "      <td>8.261923</td>\n",
       "    </tr>\n",
       "    <tr>\n",
       "      <th>1</th>\n",
       "      <td>1996</td>\n",
       "      <td>9.204601</td>\n",
       "      <td>0.942677</td>\n",
       "      <td>17.466524</td>\n",
       "    </tr>\n",
       "    <tr>\n",
       "      <th>2</th>\n",
       "      <td>1997</td>\n",
       "      <td>12.017816</td>\n",
       "      <td>2.813216</td>\n",
       "      <td>29.484341</td>\n",
       "    </tr>\n",
       "    <tr>\n",
       "      <th>3</th>\n",
       "      <td>1998</td>\n",
       "      <td>15.921260</td>\n",
       "      <td>3.903444</td>\n",
       "      <td>45.405601</td>\n",
       "    </tr>\n",
       "    <tr>\n",
       "      <th>4</th>\n",
       "      <td>1999</td>\n",
       "      <td>21.216174</td>\n",
       "      <td>5.294914</td>\n",
       "      <td>66.621775</td>\n",
       "    </tr>\n",
       "    <tr>\n",
       "      <th>5</th>\n",
       "      <td>2000</td>\n",
       "      <td>31.420435</td>\n",
       "      <td>10.204261</td>\n",
       "      <td>98.042209</td>\n",
       "    </tr>\n",
       "    <tr>\n",
       "      <th>6</th>\n",
       "      <td>2001</td>\n",
       "      <td>38.390452</td>\n",
       "      <td>6.970017</td>\n",
       "      <td>136.432661</td>\n",
       "    </tr>\n",
       "    <tr>\n",
       "      <th>7</th>\n",
       "      <td>2002</td>\n",
       "      <td>52.330782</td>\n",
       "      <td>13.940330</td>\n",
       "      <td>188.763443</td>\n",
       "    </tr>\n",
       "    <tr>\n",
       "      <th>8</th>\n",
       "      <td>2003</td>\n",
       "      <td>62.911395</td>\n",
       "      <td>10.580613</td>\n",
       "      <td>251.674839</td>\n",
       "    </tr>\n",
       "    <tr>\n",
       "      <th>9</th>\n",
       "      <td>2004</td>\n",
       "      <td>85.116192</td>\n",
       "      <td>22.204797</td>\n",
       "      <td>336.791031</td>\n",
       "    </tr>\n",
       "    <tr>\n",
       "      <th>10</th>\n",
       "      <td>2005</td>\n",
       "      <td>104.083880</td>\n",
       "      <td>18.967687</td>\n",
       "      <td>440.874911</td>\n",
       "    </tr>\n",
       "    <tr>\n",
       "      <th>11</th>\n",
       "      <td>2006</td>\n",
       "      <td>132.859216</td>\n",
       "      <td>28.775336</td>\n",
       "      <td>573.734127</td>\n",
       "    </tr>\n",
       "    <tr>\n",
       "      <th>12</th>\n",
       "      <td>2007</td>\n",
       "      <td>170.682621</td>\n",
       "      <td>37.823405</td>\n",
       "      <td>744.416747</td>\n",
       "    </tr>\n",
       "    <tr>\n",
       "      <th>13</th>\n",
       "      <td>2008</td>\n",
       "      <td>220.600045</td>\n",
       "      <td>49.917425</td>\n",
       "      <td>965.016793</td>\n",
       "    </tr>\n",
       "    <tr>\n",
       "      <th>14</th>\n",
       "      <td>2009</td>\n",
       "      <td>276.020526</td>\n",
       "      <td>55.420481</td>\n",
       "      <td>1241.037319</td>\n",
       "    </tr>\n",
       "    <tr>\n",
       "      <th>15</th>\n",
       "      <td>2010</td>\n",
       "      <td>346.465022</td>\n",
       "      <td>70.444496</td>\n",
       "      <td>1587.502341</td>\n",
       "    </tr>\n",
       "    <tr>\n",
       "      <th>16</th>\n",
       "      <td>2011</td>\n",
       "      <td>440.385092</td>\n",
       "      <td>93.920070</td>\n",
       "      <td>2027.887433</td>\n",
       "    </tr>\n",
       "    <tr>\n",
       "      <th>17</th>\n",
       "      <td>2012</td>\n",
       "      <td>530.554421</td>\n",
       "      <td>90.169329</td>\n",
       "      <td>2558.441854</td>\n",
       "    </tr>\n",
       "    <tr>\n",
       "      <th>18</th>\n",
       "      <td>2013</td>\n",
       "      <td>635.492051</td>\n",
       "      <td>104.937630</td>\n",
       "      <td>3193.933905</td>\n",
       "    </tr>\n",
       "    <tr>\n",
       "      <th>19</th>\n",
       "      <td>2014</td>\n",
       "      <td>705.805861</td>\n",
       "      <td>70.313810</td>\n",
       "      <td>3899.739766</td>\n",
       "    </tr>\n",
       "    <tr>\n",
       "      <th>20</th>\n",
       "      <td>2015</td>\n",
       "      <td>831.429688</td>\n",
       "      <td>125.623827</td>\n",
       "      <td>4731.169454</td>\n",
       "    </tr>\n",
       "    <tr>\n",
       "      <th>21</th>\n",
       "      <td>2016</td>\n",
       "      <td>962.227395</td>\n",
       "      <td>130.797707</td>\n",
       "      <td>5693.396850</td>\n",
       "    </tr>\n",
       "    <tr>\n",
       "      <th>22</th>\n",
       "      <td>2017</td>\n",
       "      <td>1140.310949</td>\n",
       "      <td>178.083554</td>\n",
       "      <td>6833.707799</td>\n",
       "    </tr>\n",
       "    <tr>\n",
       "      <th>23</th>\n",
       "      <td>2018</td>\n",
       "      <td>1269.520536</td>\n",
       "      <td>129.209587</td>\n",
       "      <td>8103.228334</td>\n",
       "    </tr>\n",
       "    <tr>\n",
       "      <th>24</th>\n",
       "      <td>2019</td>\n",
       "      <td>1418.170046</td>\n",
       "      <td>148.649511</td>\n",
       "      <td>9521.398381</td>\n",
       "    </tr>\n",
       "    <tr>\n",
       "      <th>25</th>\n",
       "      <td>2020</td>\n",
       "      <td>1591.213512</td>\n",
       "      <td>173.043466</td>\n",
       "      <td>11112.611893</td>\n",
       "    </tr>\n",
       "  </tbody>\n",
       "</table>\n",
       "</div>"
      ],
      "text/plain": [
       "    year     generate       sales       cum_sum\n",
       "0   1995     8.261923    0.000000      8.261923\n",
       "1   1996     9.204601    0.942677     17.466524\n",
       "2   1997    12.017816    2.813216     29.484341\n",
       "3   1998    15.921260    3.903444     45.405601\n",
       "4   1999    21.216174    5.294914     66.621775\n",
       "5   2000    31.420435   10.204261     98.042209\n",
       "6   2001    38.390452    6.970017    136.432661\n",
       "7   2002    52.330782   13.940330    188.763443\n",
       "8   2003    62.911395   10.580613    251.674839\n",
       "9   2004    85.116192   22.204797    336.791031\n",
       "10  2005   104.083880   18.967687    440.874911\n",
       "11  2006   132.859216   28.775336    573.734127\n",
       "12  2007   170.682621   37.823405    744.416747\n",
       "13  2008   220.600045   49.917425    965.016793\n",
       "14  2009   276.020526   55.420481   1241.037319\n",
       "15  2010   346.465022   70.444496   1587.502341\n",
       "16  2011   440.385092   93.920070   2027.887433\n",
       "17  2012   530.554421   90.169329   2558.441854\n",
       "18  2013   635.492051  104.937630   3193.933905\n",
       "19  2014   705.805861   70.313810   3899.739766\n",
       "20  2015   831.429688  125.623827   4731.169454\n",
       "21  2016   962.227395  130.797707   5693.396850\n",
       "22  2017  1140.310949  178.083554   6833.707799\n",
       "23  2018  1269.520536  129.209587   8103.228334\n",
       "24  2019  1418.170046  148.649511   9521.398381\n",
       "25  2020  1591.213512  173.043466  11112.611893"
      ]
     },
     "execution_count": 368,
     "metadata": {},
     "output_type": "execute_result"
    }
   ],
   "source": [
    "data = pd.DataFrame({'year': [1995, 1996, 1997, 1998, 1999, 2000, 2001, 2002, 2003, 2004, 2005, 2006, 2007, 2008, 2009, 2010, 2011, 2012, 2013, 2014, 2015, 2016, 2017, 2018, 2019, 2020],\n",
    "                     'generate': [8.26192344363636, 9.20460066059596, 12.0178164697778, 15.921260267805, 21.2161740066094, 31.420434564131, 38.3904519471421, 52.3307819867071, 62.9113953016839, 85.1161924282732, 104.083879757882, 132.859216030029, 170.682620580279, 220.600045153997, 276.020526299077, 346.465021938078, 440.385091980306, 530.55442135112, 635.49205101167, 705.805860788812, 831.42968828187, 962.227395409379, 1140.31094904253, 1269.52053571083, 1418.17004626655, 1591.2135122193]})\n",
    "data['sales'] = [0]+[data['generate'][i+1]-data['generate'][i] for i in range(data.shape[0]-1)]\n",
    "data['cum_sum'] = data['generate'].cumsum()\n",
    "data"
   ]
  },
  {
   "attachments": {},
   "cell_type": "markdown",
   "id": "1851a968",
   "metadata": {},
   "source": [
    "Создаем переменные P, Q, M, и назначаем им скорректированные данные из excel"
   ]
  },
  {
   "cell_type": "code",
   "execution_count": null,
   "id": "030c95fe",
   "metadata": {
    "ExecuteTime": {
     "end_time": "2021-07-31T17:55:07.107622Z",
     "start_time": "2021-07-31T17:55:07.101835Z"
    }
   },
   "outputs": [],
   "source": [
    "# P = cp.Variable()\n",
    "# Q = cp.Variable()\n",
    "# M = cp.Variable()\n",
    "P = 0.000572585\n",
    "Q = 0.249521952\n",
    "M = 2407.094319"
   ]
  },
  {
   "attachments": {},
   "cell_type": "markdown",
   "id": "32542bc9",
   "metadata": {},
   "source": [
    "Создаем функцию bass"
   ]
  },
  {
   "cell_type": "code",
   "execution_count": null,
   "id": "d4e3d00c",
   "metadata": {
    "ExecuteTime": {
     "end_time": "2021-07-31T17:55:07.119576Z",
     "start_time": "2021-07-31T17:55:07.110942Z"
    }
   },
   "outputs": [],
   "source": [
    "def bass(x):\n",
    "    # return (P+(Q/M)*(x))*(M-x)\n",
    "    return P*M+(Q-P)*(x)-(Q/M)*(x**2)"
   ]
  },
  {
   "attachments": {},
   "cell_type": "markdown",
   "id": "ee55d5d1",
   "metadata": {},
   "source": [
    "создаем функцию progcum, которая возвращает список спрогнозированных значений на основе формулы Басса, \n",
    "в которой первое значение берем от реально сгенерированных данных, остальные на основе предыдущего предсказания"
   ]
  },
  {
   "cell_type": "code",
   "execution_count": null,
   "id": "ee488096",
   "metadata": {},
   "outputs": [],
   "source": [
    "def progcum(gen):\n",
    "    a = [gen[0]]\n",
    "    for i in range(1, len(gen)):\n",
    "        a.append((bass(a[i-1]))+a[i-1])\n",
    "    return a"
   ]
  },
  {
   "attachments": {},
   "cell_type": "markdown",
   "id": "8c102a35",
   "metadata": {},
   "source": [
    "передаем эти данные в DataFrame и выводим его"
   ]
  },
  {
   "cell_type": "code",
   "execution_count": null,
   "id": "200f32ff",
   "metadata": {},
   "outputs": [
    {
     "data": {
      "text/html": [
       "<div>\n",
       "<style scoped>\n",
       "    .dataframe tbody tr th:only-of-type {\n",
       "        vertical-align: middle;\n",
       "    }\n",
       "\n",
       "    .dataframe tbody tr th {\n",
       "        vertical-align: top;\n",
       "    }\n",
       "\n",
       "    .dataframe thead th {\n",
       "        text-align: right;\n",
       "    }\n",
       "</style>\n",
       "<table border=\"1\" class=\"dataframe\">\n",
       "  <thead>\n",
       "    <tr style=\"text-align: right;\">\n",
       "      <th></th>\n",
       "      <th>year</th>\n",
       "      <th>generate</th>\n",
       "      <th>sales</th>\n",
       "      <th>cum_sum</th>\n",
       "      <th>ProgCumul</th>\n",
       "    </tr>\n",
       "  </thead>\n",
       "  <tbody>\n",
       "    <tr>\n",
       "      <th>0</th>\n",
       "      <td>1995</td>\n",
       "      <td>8.261923</td>\n",
       "      <td>0.000000</td>\n",
       "      <td>8.261923</td>\n",
       "      <td>8.261923</td>\n",
       "    </tr>\n",
       "    <tr>\n",
       "      <th>1</th>\n",
       "      <td>1996</td>\n",
       "      <td>9.204601</td>\n",
       "      <td>0.942677</td>\n",
       "      <td>17.466524</td>\n",
       "      <td>11.689914</td>\n",
       "    </tr>\n",
       "    <tr>\n",
       "      <th>2</th>\n",
       "      <td>1997</td>\n",
       "      <td>12.017816</td>\n",
       "      <td>2.813216</td>\n",
       "      <td>29.484341</td>\n",
       "      <td>15.964211</td>\n",
       "    </tr>\n",
       "    <tr>\n",
       "      <th>3</th>\n",
       "      <td>1998</td>\n",
       "      <td>15.921260</td>\n",
       "      <td>3.903444</td>\n",
       "      <td>45.405601</td>\n",
       "      <td>21.290339</td>\n",
       "    </tr>\n",
       "    <tr>\n",
       "      <th>4</th>\n",
       "      <td>1999</td>\n",
       "      <td>21.216174</td>\n",
       "      <td>5.294914</td>\n",
       "      <td>66.621775</td>\n",
       "      <td>27.921835</td>\n",
       "    </tr>\n",
       "    <tr>\n",
       "      <th>5</th>\n",
       "      <td>2000</td>\n",
       "      <td>31.420435</td>\n",
       "      <td>10.204261</td>\n",
       "      <td>98.042209</td>\n",
       "      <td>36.170406</td>\n",
       "    </tr>\n",
       "    <tr>\n",
       "      <th>6</th>\n",
       "      <td>2001</td>\n",
       "      <td>38.390452</td>\n",
       "      <td>6.970017</td>\n",
       "      <td>136.432661</td>\n",
       "      <td>46.417653</td>\n",
       "    </tr>\n",
       "    <tr>\n",
       "      <th>7</th>\n",
       "      <td>2002</td>\n",
       "      <td>52.330782</td>\n",
       "      <td>13.940330</td>\n",
       "      <td>188.763443</td>\n",
       "      <td>59.128216</td>\n",
       "    </tr>\n",
       "    <tr>\n",
       "      <th>8</th>\n",
       "      <td>2003</td>\n",
       "      <td>62.911395</td>\n",
       "      <td>10.580613</td>\n",
       "      <td>251.674839</td>\n",
       "      <td>74.864000</td>\n",
       "    </tr>\n",
       "    <tr>\n",
       "      <th>9</th>\n",
       "      <td>2004</td>\n",
       "      <td>85.116192</td>\n",
       "      <td>22.204797</td>\n",
       "      <td>336.791031</td>\n",
       "      <td>94.298631</td>\n",
       "    </tr>\n",
       "    <tr>\n",
       "      <th>10</th>\n",
       "      <td>2005</td>\n",
       "      <td>104.083880</td>\n",
       "      <td>18.967687</td>\n",
       "      <td>440.874911</td>\n",
       "      <td>118.230703</td>\n",
       "    </tr>\n",
       "    <tr>\n",
       "      <th>11</th>\n",
       "      <td>2006</td>\n",
       "      <td>132.859216</td>\n",
       "      <td>28.775336</td>\n",
       "      <td>573.734127</td>\n",
       "      <td>147.593402</td>\n",
       "    </tr>\n",
       "    <tr>\n",
       "      <th>12</th>\n",
       "      <td>2007</td>\n",
       "      <td>170.682621</td>\n",
       "      <td>37.823405</td>\n",
       "      <td>744.416747</td>\n",
       "      <td>183.456819</td>\n",
       "    </tr>\n",
       "    <tr>\n",
       "      <th>13</th>\n",
       "      <td>2008</td>\n",
       "      <td>220.600045</td>\n",
       "      <td>49.917425</td>\n",
       "      <td>965.016793</td>\n",
       "      <td>227.017686</td>\n",
       "    </tr>\n",
       "    <tr>\n",
       "      <th>14</th>\n",
       "      <td>2009</td>\n",
       "      <td>276.020526</td>\n",
       "      <td>55.420481</td>\n",
       "      <td>1241.037319</td>\n",
       "      <td>279.569478</td>\n",
       "    </tr>\n",
       "    <tr>\n",
       "      <th>15</th>\n",
       "      <td>2010</td>\n",
       "      <td>346.465022</td>\n",
       "      <td>70.444496</td>\n",
       "      <td>1587.502341</td>\n",
       "      <td>342.444334</td>\n",
       "    </tr>\n",
       "    <tr>\n",
       "      <th>16</th>\n",
       "      <td>2011</td>\n",
       "      <td>440.385092</td>\n",
       "      <td>93.920070</td>\n",
       "      <td>2027.887433</td>\n",
       "      <td>416.917762</td>\n",
       "    </tr>\n",
       "    <tr>\n",
       "      <th>17</th>\n",
       "      <td>2012</td>\n",
       "      <td>530.554421</td>\n",
       "      <td>90.169329</td>\n",
       "      <td>2558.441854</td>\n",
       "      <td>504.069032</td>\n",
       "    </tr>\n",
       "    <tr>\n",
       "      <th>18</th>\n",
       "      <td>2013</td>\n",
       "      <td>635.492051</td>\n",
       "      <td>104.937630</td>\n",
       "      <td>3193.933905</td>\n",
       "      <td>604.596183</td>\n",
       "    </tr>\n",
       "    <tr>\n",
       "      <th>19</th>\n",
       "      <td>2014</td>\n",
       "      <td>705.805861</td>\n",
       "      <td>70.313810</td>\n",
       "      <td>3899.739766</td>\n",
       "      <td>718.596380</td>\n",
       "    </tr>\n",
       "    <tr>\n",
       "      <th>20</th>\n",
       "      <td>2015</td>\n",
       "      <td>831.429688</td>\n",
       "      <td>125.623827</td>\n",
       "      <td>4731.169454</td>\n",
       "      <td>845.340182</td>\n",
       "    </tr>\n",
       "    <tr>\n",
       "      <th>21</th>\n",
       "      <td>2016</td>\n",
       "      <td>962.227395</td>\n",
       "      <td>130.797707</td>\n",
       "      <td>5693.396850</td>\n",
       "      <td>983.089155</td>\n",
       "    </tr>\n",
       "    <tr>\n",
       "      <th>22</th>\n",
       "      <td>2017</td>\n",
       "      <td>1140.310949</td>\n",
       "      <td>178.083554</td>\n",
       "      <td>6833.707799</td>\n",
       "      <td>1129.022130</td>\n",
       "    </tr>\n",
       "    <tr>\n",
       "      <th>23</th>\n",
       "      <td>2018</td>\n",
       "      <td>1269.520536</td>\n",
       "      <td>129.209587</td>\n",
       "      <td>8103.228334</td>\n",
       "      <td>1279.333922</td>\n",
       "    </tr>\n",
       "    <tr>\n",
       "      <th>24</th>\n",
       "      <td>2019</td>\n",
       "      <td>1418.170046</td>\n",
       "      <td>148.649511</td>\n",
       "      <td>9521.398381</td>\n",
       "      <td>1429.539987</td>\n",
       "    </tr>\n",
       "    <tr>\n",
       "      <th>25</th>\n",
       "      <td>2020</td>\n",
       "      <td>1591.213512</td>\n",
       "      <td>173.043466</td>\n",
       "      <td>11112.611893</td>\n",
       "      <td>1574.961182</td>\n",
       "    </tr>\n",
       "  </tbody>\n",
       "</table>\n",
       "</div>"
      ],
      "text/plain": [
       "    year     generate       sales       cum_sum    ProgCumul\n",
       "0   1995     8.261923    0.000000      8.261923     8.261923\n",
       "1   1996     9.204601    0.942677     17.466524    11.689914\n",
       "2   1997    12.017816    2.813216     29.484341    15.964211\n",
       "3   1998    15.921260    3.903444     45.405601    21.290339\n",
       "4   1999    21.216174    5.294914     66.621775    27.921835\n",
       "5   2000    31.420435   10.204261     98.042209    36.170406\n",
       "6   2001    38.390452    6.970017    136.432661    46.417653\n",
       "7   2002    52.330782   13.940330    188.763443    59.128216\n",
       "8   2003    62.911395   10.580613    251.674839    74.864000\n",
       "9   2004    85.116192   22.204797    336.791031    94.298631\n",
       "10  2005   104.083880   18.967687    440.874911   118.230703\n",
       "11  2006   132.859216   28.775336    573.734127   147.593402\n",
       "12  2007   170.682621   37.823405    744.416747   183.456819\n",
       "13  2008   220.600045   49.917425    965.016793   227.017686\n",
       "14  2009   276.020526   55.420481   1241.037319   279.569478\n",
       "15  2010   346.465022   70.444496   1587.502341   342.444334\n",
       "16  2011   440.385092   93.920070   2027.887433   416.917762\n",
       "17  2012   530.554421   90.169329   2558.441854   504.069032\n",
       "18  2013   635.492051  104.937630   3193.933905   604.596183\n",
       "19  2014   705.805861   70.313810   3899.739766   718.596380\n",
       "20  2015   831.429688  125.623827   4731.169454   845.340182\n",
       "21  2016   962.227395  130.797707   5693.396850   983.089155\n",
       "22  2017  1140.310949  178.083554   6833.707799  1129.022130\n",
       "23  2018  1269.520536  129.209587   8103.228334  1279.333922\n",
       "24  2019  1418.170046  148.649511   9521.398381  1429.539987\n",
       "25  2020  1591.213512  173.043466  11112.611893  1574.961182"
      ]
     },
     "execution_count": 372,
     "metadata": {},
     "output_type": "execute_result"
    }
   ],
   "source": [
    "data['ProgCumul'] = progcum(data['generate'])\n",
    "data"
   ]
  },
  {
   "attachments": {},
   "cell_type": "markdown",
   "id": "165ef40b",
   "metadata": {},
   "source": [
    "Полученные данные соответсвуюх excel файлу, создадим функцию вывода данных в график и выведем полученные графики"
   ]
  },
  {
   "cell_type": "code",
   "execution_count": null,
   "id": "8d291cd3",
   "metadata": {},
   "outputs": [
    {
     "data": {
      "image/png": "[encoded data removed]",
      "text/plain": [
       "<Figure size 640x480 with 1 Axes>"
      ]
     },
     "metadata": {},
     "output_type": "display_data"
    }
   ],
   "source": [
    "def grafik(a = data.ProgCumul):\n",
    "    plt.plot(data.year, data.generate, 'b-', label='generate')\n",
    "    plt.plot(data.year, a, 'r-', label='PrognoseCumulative')\n",
    "    plt.xlabel('year')\n",
    "    plt.ylabel('generate')\n",
    "    plt.legend()\n",
    "    plt.show()\n",
    "grafik()"
   ]
  },
  {
   "attachments": {},
   "cell_type": "markdown",
   "id": "0bd63fd2",
   "metadata": {},
   "source": [
    "сгенерируем параметры P,Q,M через модуль scypy и выведем полученные данные в график,\n",
    "прелыдущие P,Q,M сохраним в переменную, что бы сравнивать"
   ]
  },
  {
   "cell_type": "code",
   "execution_count": null,
   "id": "e862ecf8",
   "metadata": {},
   "outputs": [
    {
     "ename": "NameError",
     "evalue": "name 'curve_fit' is not defined",
     "output_type": "error",
     "traceback": [
      "\u001b[0;31m---------------------------------------------------------------------------\u001b[0m",
      "\u001b[0;31mNameError\u001b[0m                                 Traceback (most recent call last)",
      "Cell \u001b[0;32mIn[4], line 5\u001b[0m\n\u001b[1;32m      3\u001b[0m     \u001b[39mreturn\u001b[39;00m (p\u001b[39m*\u001b[39mm\u001b[39m+\u001b[39m(q\u001b[39m-\u001b[39mp)\u001b[39m*\u001b[39m(x))\u001b[39m-\u001b[39m(q\u001b[39m/\u001b[39mm)\u001b[39m*\u001b[39m(x\u001b[39m*\u001b[39m\u001b[39m*\u001b[39m\u001b[39m2\u001b[39m)\n\u001b[1;32m      4\u001b[0m \u001b[39m# popt, pcov = curve_fit(bass2, data.cum_sum[0:26], data.generate[0:26], maxfev = 5000)\u001b[39;00m\n\u001b[0;32m----> 5\u001b[0m popt, pcov \u001b[39m=\u001b[39m curve_fit(bass2, data\u001b[39m.\u001b[39mcum_sum[\u001b[39m2\u001b[39m:\u001b[39m23\u001b[39m], data\u001b[39m.\u001b[39mgenerate[\u001b[39m2\u001b[39m:\u001b[39m23\u001b[39m], maxfev \u001b[39m=\u001b[39m \u001b[39m5000\u001b[39m)\n\u001b[1;32m      7\u001b[0m PQM \u001b[39m=\u001b[39m [P, Q, M]\n\u001b[1;32m      8\u001b[0m \u001b[39mprint\u001b[39m(\u001b[39mf\u001b[39m\u001b[39m'\u001b[39m\u001b[39mP - \u001b[39m\u001b[39m{\u001b[39;00m\u001b[39mround\u001b[39m(popt[\u001b[39m0\u001b[39m],\u001b[39m5\u001b[39m)\u001b[39m}\u001b[39;00m\u001b[39m, Q - \u001b[39m\u001b[39m{\u001b[39;00m\u001b[39mround\u001b[39m(popt[\u001b[39m1\u001b[39m],\u001b[39m5\u001b[39m)\u001b[39m}\u001b[39;00m\u001b[39m, M - \u001b[39m\u001b[39m{\u001b[39;00m\u001b[39mround\u001b[39m(popt[\u001b[39m2\u001b[39m],\u001b[39m5\u001b[39m)\u001b[39m}\u001b[39;00m\u001b[39m'\u001b[39m)\n",
      "\u001b[0;31mNameError\u001b[0m: name 'curve_fit' is not defined"
     ]
    }
   ],
   "source": [
    "def bass2(x, p, q, m):\n",
    "    # return (p+(q/m)*(x))*(m-x)\n",
    "    return (p*m+(q-p)*(x))-(q/m)*(x**2)\n",
    "# popt, pcov = curve_fit(bass2, data.cum_sum[0:26], data.generate[0:26], maxfev = 5000)\n",
    "popt, pcov = curve_fit(bass2, data.cum_sum[1:23], data.generate[1:23], maxfev = 5000)\n",
    "\n",
    "PQM = [P, Q, M]\n",
    "print(f'P - {round(popt[0],5)}, Q - {round(popt[1],5)}, M - {round(popt[2],5)}')\n",
    "print(f'P - {P}, Q - {Q}, M - {M}')"
   ]
  },
  {
   "attachments": {},
   "cell_type": "markdown",
   "id": "3f92721c",
   "metadata": {},
   "source": [
    "из полученных данных видно, что не соответствует только параметр M,\n",
    "перепишем DataFrame на основе новых данных и выведем в график"
   ]
  },
  {
   "cell_type": "code",
   "execution_count": null,
   "id": "75d48563",
   "metadata": {},
   "outputs": [
    {
     "name": "stderr",
     "output_type": "stream",
     "text": [
      "/tmp/ipykernel_3629/3992425835.py:3: RuntimeWarning: overflow encountered in scalar power\n",
      "  return P*M+(Q-P)*(x)-(Q/M)*(x**2)\n"
     ]
    },
    {
     "data": {
      "image/png": "[encoded data removed]",
      "text/plain": [
       "<Figure size 640x480 with 1 Axes>"
      ]
     },
     "metadata": {},
     "output_type": "display_data"
    }
   ],
   "source": [
    "P = popt[0]\n",
    "Q = popt[1]\n",
    "M = popt[2]\n",
    "data['ProgCumul1'] = progcum(data['generate'])\n",
    "grafik(data.ProgCumul1)"
   ]
  },
  {
   "attachments": {},
   "cell_type": "markdown",
   "id": "4e949f4e",
   "metadata": {},
   "source": [
    "проверим, что получится если сгенерировать P, Q, M на основе спрогнозированных данных"
   ]
  },
  {
   "cell_type": "code",
   "execution_count": null,
   "id": "ed0c9378",
   "metadata": {},
   "outputs": [
    {
     "ename": "ValueError",
     "evalue": "array must not contain infs or NaNs",
     "output_type": "error",
     "traceback": [
      "\u001b[0;31m---------------------------------------------------------------------------\u001b[0m",
      "\u001b[0;31mValueError\u001b[0m                                Traceback (most recent call last)",
      "Cell \u001b[0;32mIn[376], line 2\u001b[0m\n\u001b[1;32m      1\u001b[0m data[\u001b[39m'\u001b[39m\u001b[39mcum_sum2\u001b[39m\u001b[39m'\u001b[39m] \u001b[39m=\u001b[39m data[\u001b[39m'\u001b[39m\u001b[39mProgCumul1\u001b[39m\u001b[39m'\u001b[39m]\u001b[39m.\u001b[39mcumsum()\n\u001b[0;32m----> 2\u001b[0m popt, pcov \u001b[39m=\u001b[39m curve_fit(bass2, data\u001b[39m.\u001b[39;49mcum_sum2[\u001b[39m0\u001b[39;49m:\u001b[39m25\u001b[39;49m], data\u001b[39m.\u001b[39;49mProgCumul1[\u001b[39m1\u001b[39;49m:\u001b[39m26\u001b[39;49m], maxfev \u001b[39m=\u001b[39;49m \u001b[39m5000\u001b[39;49m)\n\u001b[1;32m      4\u001b[0m \u001b[39mprint\u001b[39m(\u001b[39mf\u001b[39m\u001b[39m'\u001b[39m\u001b[39mP - \u001b[39m\u001b[39m{\u001b[39;00m\u001b[39mround\u001b[39m(popt[\u001b[39m0\u001b[39m],\u001b[39m5\u001b[39m)\u001b[39m}\u001b[39;00m\u001b[39m, Q - \u001b[39m\u001b[39m{\u001b[39;00m\u001b[39mround\u001b[39m(popt[\u001b[39m1\u001b[39m],\u001b[39m5\u001b[39m)\u001b[39m}\u001b[39;00m\u001b[39m, M - \u001b[39m\u001b[39m{\u001b[39;00m\u001b[39mround\u001b[39m(popt[\u001b[39m2\u001b[39m],\u001b[39m5\u001b[39m)\u001b[39m}\u001b[39;00m\u001b[39m'\u001b[39m)\n\u001b[1;32m      5\u001b[0m \u001b[39mprint\u001b[39m(\u001b[39mf\u001b[39m\u001b[39m'\u001b[39m\u001b[39mP - \u001b[39m\u001b[39m{\u001b[39;00mPQM[\u001b[39m0\u001b[39m]\u001b[39m}\u001b[39;00m\u001b[39m, Q - \u001b[39m\u001b[39m{\u001b[39;00mPQM[\u001b[39m1\u001b[39m]\u001b[39m}\u001b[39;00m\u001b[39m, M - \u001b[39m\u001b[39m{\u001b[39;00mPQM[\u001b[39m2\u001b[39m]\u001b[39m}\u001b[39;00m\u001b[39m'\u001b[39m)\n",
      "File \u001b[0;32m~/Рабочий стол/magistr/env/lib/python3.10/site-packages/scipy/optimize/_minpack_py.py:807\u001b[0m, in \u001b[0;36mcurve_fit\u001b[0;34m(f, xdata, ydata, p0, sigma, absolute_sigma, check_finite, bounds, method, jac, full_output, **kwargs)\u001b[0m\n\u001b[1;32m    803\u001b[0m \u001b[39m# optimization may produce garbage for float32 inputs, cast them to float64\u001b[39;00m\n\u001b[1;32m    804\u001b[0m \n\u001b[1;32m    805\u001b[0m \u001b[39m# NaNs cannot be handled\u001b[39;00m\n\u001b[1;32m    806\u001b[0m \u001b[39mif\u001b[39;00m check_finite:\n\u001b[0;32m--> 807\u001b[0m     ydata \u001b[39m=\u001b[39m np\u001b[39m.\u001b[39;49masarray_chkfinite(ydata, \u001b[39mfloat\u001b[39;49m)\n\u001b[1;32m    808\u001b[0m \u001b[39melse\u001b[39;00m:\n\u001b[1;32m    809\u001b[0m     ydata \u001b[39m=\u001b[39m np\u001b[39m.\u001b[39masarray(ydata, \u001b[39mfloat\u001b[39m)\n",
      "File \u001b[0;32m~/Рабочий стол/magistr/env/lib/python3.10/site-packages/numpy/lib/function_base.py:628\u001b[0m, in \u001b[0;36masarray_chkfinite\u001b[0;34m(a, dtype, order)\u001b[0m\n\u001b[1;32m    626\u001b[0m a \u001b[39m=\u001b[39m asarray(a, dtype\u001b[39m=\u001b[39mdtype, order\u001b[39m=\u001b[39morder)\n\u001b[1;32m    627\u001b[0m \u001b[39mif\u001b[39;00m a\u001b[39m.\u001b[39mdtype\u001b[39m.\u001b[39mchar \u001b[39min\u001b[39;00m typecodes[\u001b[39m'\u001b[39m\u001b[39mAllFloat\u001b[39m\u001b[39m'\u001b[39m] \u001b[39mand\u001b[39;00m \u001b[39mnot\u001b[39;00m np\u001b[39m.\u001b[39misfinite(a)\u001b[39m.\u001b[39mall():\n\u001b[0;32m--> 628\u001b[0m     \u001b[39mraise\u001b[39;00m \u001b[39mValueError\u001b[39;00m(\n\u001b[1;32m    629\u001b[0m         \u001b[39m\"\u001b[39m\u001b[39marray must not contain infs or NaNs\u001b[39m\u001b[39m\"\u001b[39m)\n\u001b[1;32m    630\u001b[0m \u001b[39mreturn\u001b[39;00m a\n",
      "\u001b[0;31mValueError\u001b[0m: array must not contain infs or NaNs"
     ]
    }
   ],
   "source": [
    "data['cum_sum2'] = data['ProgCumul1'].cumsum()\n",
    "popt, pcov = curve_fit(bass2, data.cum_sum2[0:25], data.ProgCumul1[1:26], maxfev = 5000)\n",
    "\n",
    "print(f'P - {round(popt[0],5)}, Q - {round(popt[1],5)}, M - {round(popt[2],5)}')\n",
    "print(f'P - {PQM[0]}, Q - {PQM[1]}, M - {PQM[2]}')\n",
    "# P = popt[0]\n",
    "# Q = popt[1]\n",
    "# M = popt[2]\n",
    "# data['ProgCumul2'] = progcum(data['generate'])\n",
    "# grafik(data.ProgCumul1)"
   ]
  },
  {
   "cell_type": "code",
   "execution_count": null,
   "id": "ba72bd19",
   "metadata": {},
   "outputs": [],
   "source": [
    "# objective = cp.Minimize(cp.sum_squares(progcum(data['generate']) - data['generate']))\n",
    "# constraints = [P >= 0, Q >= 0, M >= 0]\n",
    "# prob = cp.Problem(objective, constraints)\n",
    "# result = prob.solve()\n",
    "# print(P.value)\n",
    "# print(Q.value)\n",
    "# print(M.value)"
   ]
  },
  {
   "cell_type": "code",
   "execution_count": null,
   "id": "984ca3fe",
   "metadata": {
    "ExecuteTime": {
     "end_time": "2021-07-31T17:55:07.138755Z",
     "start_time": "2021-07-31T17:55:07.122101Z"
    }
   },
   "outputs": [],
   "source": [
    "\n",
    "# data['progsal'] = [0] + list(map(bass, data.generate[1:]))\n",
    "# data = data.assign(ProgCumul = data.generate[0]).assign(ProgCumul = lambda x: bass(x.ProgCumul.shift(1, fill_value=x.generate[0])) + x.ProgCumul.shift(1, fill_value=0))\n",
    "# data = data.assign(ProgCumul = lambda x: x.generate if x.generate.shift(1, fill_value=0) == 0 else bass(x.generate.shift(1, fill_value=x.generate[0])) + x.generate.shift(1, fill_value=0))\n",
    "# data = data.assign(ProgCumul = data.generate[0]).assign(ProgCumul = lambda x: bass(x.ProgCumul.shift(1, fill_value=x.generate[0])) + x.ProgCumul.shift(1, fill_value=0))\n",
    "\n",
    "# data['ProgCumul'] = progcum(data['generate'])\n",
    "# data\n"
   ]
  },
  {
   "cell_type": "code",
   "execution_count": null,
   "id": "22d3e4db",
   "metadata": {},
   "outputs": [],
   "source": [
    "def squaremist(a, b):\n",
    "    c = []\n",
    "    for i in range(len(a)):\n",
    "        c.append((b[i]-a[i])**2)\n",
    "    return(c)\n",
    "# squaremist(data['generate'], data['ProgCumul'])"
   ]
  },
  {
   "cell_type": "code",
   "execution_count": null,
   "id": "9eb3853f",
   "metadata": {},
   "outputs": [],
   "source": [
    "# objective = cp.Minimize(cp.sum(squaremist(data['generate'], progcum(data['generate']))))\n",
    "# constraints = [P >= 0, Q >= 0, M >= 0]\n",
    "# prob = cp.Problem(objective)\n",
    "# result = prob.solve()\n",
    "# print(P.value)\n",
    "# print(Q.value)\n",
    "# print(M.value)\n",
    "# print(objective)"
   ]
  }
 ],
 "metadata": {
  "hide_input": false,
  "kernelspec": {
   "display_name": "env",
   "language": "python",
   "name": "python3"
  },
  "language_info": {
   "codemirror_mode": {
    "name": "ipython",
    "version": 3
   },
   "file_extension": ".py",
   "mimetype": "text/x-python",
   "name": "python",
   "nbconvert_exporter": "python",
   "pygments_lexer": "ipython3",
   "version": "3.10.6"
  },
  "toc": {
   "base_numbering": 1,
   "nav_menu": {},
   "number_sections": true,
   "sideBar": true,
   "skip_h1_title": false,
   "title_cell": "Table of Contents",
   "title_sidebar": "Contents",
   "toc_cell": false,
   "toc_position": {},
   "toc_section_display": true,
   "toc_window_display": false
  },
  "varInspector": {
   "cols": {
    "lenName": 16,
    "lenType": 16,
    "lenVar": 40
   },
   "kernels_config": {
    "python": {
     "delete_cmd_postfix": "",
     "delete_cmd_prefix": "del ",
     "library": "var_list.py",
     "varRefreshCmd": "print(var_dic_list())"
    },
    "r": {
     "delete_cmd_postfix": ") ",
     "delete_cmd_prefix": "rm(",
     "library": "var_list.r",
     "varRefreshCmd": "cat(var_dic_list()) "
    }
   },
   "types_to_exclude": [
    "module",
    "function",
    "builtin_function_or_method",
    "instance",
    "_Feature"
   ],
   "window_display": false
  },
  "vscode": {
   "interpreter": {
    "hash": "c98e5395cf8c73312b2966d1ec0972ef6d8ba0a5f09cf65f6a95171f08c040d7"
   }
  }
 },
 "nbformat": 4,
 "nbformat_minor": 5
}

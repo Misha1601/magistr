{
 "cells": [
  {
   "cell_type": "markdown",
   "id": "e2e93b50",
   "metadata": {},
   "source": [
    "# Import Data"
   ]
  },
  {
   "cell_type": "code",
   "execution_count": 2,
   "id": "e5af8a44",
   "metadata": {
    "ExecuteTime": {
     "end_time": "2021-07-31T17:55:05.395527Z",
     "start_time": "2021-07-31T17:55:02.832321Z"
    }
   },
   "outputs": [],
   "source": [
    "import pandas as pd\n",
    "import cvxpy as cp\n",
    "import numpy as np\n",
    "#import gdown"
   ]
  },
  {
   "cell_type": "code",
   "execution_count": 14,
   "id": "12f014a6",
   "metadata": {
    "ExecuteTime": {
     "end_time": "2021-07-31T17:55:07.087808Z",
     "start_time": "2021-07-31T17:55:07.076727Z"
    }
   },
   "outputs": [],
   "source": [
    "data = pd.DataFrame({'year': [1995, 1996, 1997, 1998, 1999, 2000, 2001, 2002, 2003, 2004, 2005, 2006, 2007, 2008, 2009, 2010, 2011, 2012, 2013, 2014, 2015, 2016, 2017, 2018, 2019, 2020],\n",
    "                     'generate': [8.26192344363636, 9.20460066059596, 12.0178164697778, 15.921260267805, 21.2161740066094, 31.420434564131, 38.3904519471421, 52.3307819867071, 62.9113953016839, 85.1161924282732, 104.083879757882, 132.859216030029, 170.682620580279, 220.600045153997, 276.020526299077, 346.465021938078, 440.385091980306, 530.55442135112, 635.49205101167, 705.805860788812, 831.42968828187, 962.227395409379, 1140.31094904253, 1269.52053571083, 1418.17004626655, 1591.2135122193]})\n",
    "data['sales'] = [0]+[data['generate'][i+1]-data['generate'][i] for i in range(data.shape[0]-1)]\n",
    "data['cum_sum'] = data['generate'].cumsum()\n",
    "generate = data.generate"
   ]
  },
  {
   "cell_type": "code",
   "execution_count": 15,
   "id": "819bde6a",
   "metadata": {
    "ExecuteTime": {
     "end_time": "2021-07-31T17:55:07.099532Z",
     "start_time": "2021-07-31T17:55:07.091994Z"
    }
   },
   "outputs": [
    {
     "data": {
      "text/html": [
       "<div>\n",
       "<style scoped>\n",
       "    .dataframe tbody tr th:only-of-type {\n",
       "        vertical-align: middle;\n",
       "    }\n",
       "\n",
       "    .dataframe tbody tr th {\n",
       "        vertical-align: top;\n",
       "    }\n",
       "\n",
       "    .dataframe thead th {\n",
       "        text-align: right;\n",
       "    }\n",
       "</style>\n",
       "<table border=\"1\" class=\"dataframe\">\n",
       "  <thead>\n",
       "    <tr style=\"text-align: right;\">\n",
       "      <th></th>\n",
       "      <th>year</th>\n",
       "      <th>generate</th>\n",
       "      <th>sales</th>\n",
       "      <th>cum_sum</th>\n",
       "    </tr>\n",
       "  </thead>\n",
       "  <tbody>\n",
       "    <tr>\n",
       "      <th>0</th>\n",
       "      <td>1995</td>\n",
       "      <td>8.261923</td>\n",
       "      <td>0.000000</td>\n",
       "      <td>8.261923</td>\n",
       "    </tr>\n",
       "    <tr>\n",
       "      <th>1</th>\n",
       "      <td>1996</td>\n",
       "      <td>9.204601</td>\n",
       "      <td>0.942677</td>\n",
       "      <td>17.466524</td>\n",
       "    </tr>\n",
       "    <tr>\n",
       "      <th>2</th>\n",
       "      <td>1997</td>\n",
       "      <td>12.017816</td>\n",
       "      <td>2.813216</td>\n",
       "      <td>29.484341</td>\n",
       "    </tr>\n",
       "    <tr>\n",
       "      <th>3</th>\n",
       "      <td>1998</td>\n",
       "      <td>15.921260</td>\n",
       "      <td>3.903444</td>\n",
       "      <td>45.405601</td>\n",
       "    </tr>\n",
       "    <tr>\n",
       "      <th>4</th>\n",
       "      <td>1999</td>\n",
       "      <td>21.216174</td>\n",
       "      <td>5.294914</td>\n",
       "      <td>66.621775</td>\n",
       "    </tr>\n",
       "    <tr>\n",
       "      <th>5</th>\n",
       "      <td>2000</td>\n",
       "      <td>31.420435</td>\n",
       "      <td>10.204261</td>\n",
       "      <td>98.042209</td>\n",
       "    </tr>\n",
       "    <tr>\n",
       "      <th>6</th>\n",
       "      <td>2001</td>\n",
       "      <td>38.390452</td>\n",
       "      <td>6.970017</td>\n",
       "      <td>136.432661</td>\n",
       "    </tr>\n",
       "    <tr>\n",
       "      <th>7</th>\n",
       "      <td>2002</td>\n",
       "      <td>52.330782</td>\n",
       "      <td>13.940330</td>\n",
       "      <td>188.763443</td>\n",
       "    </tr>\n",
       "    <tr>\n",
       "      <th>8</th>\n",
       "      <td>2003</td>\n",
       "      <td>62.911395</td>\n",
       "      <td>10.580613</td>\n",
       "      <td>251.674839</td>\n",
       "    </tr>\n",
       "    <tr>\n",
       "      <th>9</th>\n",
       "      <td>2004</td>\n",
       "      <td>85.116192</td>\n",
       "      <td>22.204797</td>\n",
       "      <td>336.791031</td>\n",
       "    </tr>\n",
       "    <tr>\n",
       "      <th>10</th>\n",
       "      <td>2005</td>\n",
       "      <td>104.083880</td>\n",
       "      <td>18.967687</td>\n",
       "      <td>440.874911</td>\n",
       "    </tr>\n",
       "    <tr>\n",
       "      <th>11</th>\n",
       "      <td>2006</td>\n",
       "      <td>132.859216</td>\n",
       "      <td>28.775336</td>\n",
       "      <td>573.734127</td>\n",
       "    </tr>\n",
       "    <tr>\n",
       "      <th>12</th>\n",
       "      <td>2007</td>\n",
       "      <td>170.682621</td>\n",
       "      <td>37.823405</td>\n",
       "      <td>744.416747</td>\n",
       "    </tr>\n",
       "    <tr>\n",
       "      <th>13</th>\n",
       "      <td>2008</td>\n",
       "      <td>220.600045</td>\n",
       "      <td>49.917425</td>\n",
       "      <td>965.016793</td>\n",
       "    </tr>\n",
       "    <tr>\n",
       "      <th>14</th>\n",
       "      <td>2009</td>\n",
       "      <td>276.020526</td>\n",
       "      <td>55.420481</td>\n",
       "      <td>1241.037319</td>\n",
       "    </tr>\n",
       "    <tr>\n",
       "      <th>15</th>\n",
       "      <td>2010</td>\n",
       "      <td>346.465022</td>\n",
       "      <td>70.444496</td>\n",
       "      <td>1587.502341</td>\n",
       "    </tr>\n",
       "    <tr>\n",
       "      <th>16</th>\n",
       "      <td>2011</td>\n",
       "      <td>440.385092</td>\n",
       "      <td>93.920070</td>\n",
       "      <td>2027.887433</td>\n",
       "    </tr>\n",
       "    <tr>\n",
       "      <th>17</th>\n",
       "      <td>2012</td>\n",
       "      <td>530.554421</td>\n",
       "      <td>90.169329</td>\n",
       "      <td>2558.441854</td>\n",
       "    </tr>\n",
       "    <tr>\n",
       "      <th>18</th>\n",
       "      <td>2013</td>\n",
       "      <td>635.492051</td>\n",
       "      <td>104.937630</td>\n",
       "      <td>3193.933905</td>\n",
       "    </tr>\n",
       "    <tr>\n",
       "      <th>19</th>\n",
       "      <td>2014</td>\n",
       "      <td>705.805861</td>\n",
       "      <td>70.313810</td>\n",
       "      <td>3899.739766</td>\n",
       "    </tr>\n",
       "    <tr>\n",
       "      <th>20</th>\n",
       "      <td>2015</td>\n",
       "      <td>831.429688</td>\n",
       "      <td>125.623827</td>\n",
       "      <td>4731.169454</td>\n",
       "    </tr>\n",
       "    <tr>\n",
       "      <th>21</th>\n",
       "      <td>2016</td>\n",
       "      <td>962.227395</td>\n",
       "      <td>130.797707</td>\n",
       "      <td>5693.396850</td>\n",
       "    </tr>\n",
       "    <tr>\n",
       "      <th>22</th>\n",
       "      <td>2017</td>\n",
       "      <td>1140.310949</td>\n",
       "      <td>178.083554</td>\n",
       "      <td>6833.707799</td>\n",
       "    </tr>\n",
       "    <tr>\n",
       "      <th>23</th>\n",
       "      <td>2018</td>\n",
       "      <td>1269.520536</td>\n",
       "      <td>129.209587</td>\n",
       "      <td>8103.228334</td>\n",
       "    </tr>\n",
       "    <tr>\n",
       "      <th>24</th>\n",
       "      <td>2019</td>\n",
       "      <td>1418.170046</td>\n",
       "      <td>148.649511</td>\n",
       "      <td>9521.398381</td>\n",
       "    </tr>\n",
       "    <tr>\n",
       "      <th>25</th>\n",
       "      <td>2020</td>\n",
       "      <td>1591.213512</td>\n",
       "      <td>173.043466</td>\n",
       "      <td>11112.611893</td>\n",
       "    </tr>\n",
       "  </tbody>\n",
       "</table>\n",
       "</div>"
      ],
      "text/plain": [
       "    year     generate       sales       cum_sum\n",
       "0   1995     8.261923    0.000000      8.261923\n",
       "1   1996     9.204601    0.942677     17.466524\n",
       "2   1997    12.017816    2.813216     29.484341\n",
       "3   1998    15.921260    3.903444     45.405601\n",
       "4   1999    21.216174    5.294914     66.621775\n",
       "5   2000    31.420435   10.204261     98.042209\n",
       "6   2001    38.390452    6.970017    136.432661\n",
       "7   2002    52.330782   13.940330    188.763443\n",
       "8   2003    62.911395   10.580613    251.674839\n",
       "9   2004    85.116192   22.204797    336.791031\n",
       "10  2005   104.083880   18.967687    440.874911\n",
       "11  2006   132.859216   28.775336    573.734127\n",
       "12  2007   170.682621   37.823405    744.416747\n",
       "13  2008   220.600045   49.917425    965.016793\n",
       "14  2009   276.020526   55.420481   1241.037319\n",
       "15  2010   346.465022   70.444496   1587.502341\n",
       "16  2011   440.385092   93.920070   2027.887433\n",
       "17  2012   530.554421   90.169329   2558.441854\n",
       "18  2013   635.492051  104.937630   3193.933905\n",
       "19  2014   705.805861   70.313810   3899.739766\n",
       "20  2015   831.429688  125.623827   4731.169454\n",
       "21  2016   962.227395  130.797707   5693.396850\n",
       "22  2017  1140.310949  178.083554   6833.707799\n",
       "23  2018  1269.520536  129.209587   8103.228334\n",
       "24  2019  1418.170046  148.649511   9521.398381\n",
       "25  2020  1591.213512  173.043466  11112.611893"
      ]
     },
     "execution_count": 15,
     "metadata": {},
     "output_type": "execute_result"
    }
   ],
   "source": [
    "data"
   ]
  },
  {
   "cell_type": "code",
   "execution_count": 16,
   "id": "030c95fe",
   "metadata": {
    "ExecuteTime": {
     "end_time": "2021-07-31T17:55:07.107622Z",
     "start_time": "2021-07-31T17:55:07.101835Z"
    }
   },
   "outputs": [],
   "source": [
    "P = cp.Variable()\n",
    "Q = cp.Variable()\n",
    "M = cp.Variable()"
   ]
  },
  {
   "cell_type": "code",
   "execution_count": 17,
   "id": "d4e3d00c",
   "metadata": {
    "ExecuteTime": {
     "end_time": "2021-07-31T17:55:07.119576Z",
     "start_time": "2021-07-31T17:55:07.110942Z"
    }
   },
   "outputs": [],
   "source": [
    "def c_t(x, p, q, m):\n",
    "    # return (p+(q/m)*(x))*(m-x)\n",
    "    return (p*m+(q-p)*(x))-(q/m)*(x**2)"
   ]
  },
  {
   "cell_type": "code",
   "execution_count": 18,
   "id": "984ca3fe",
   "metadata": {
    "ExecuteTime": {
     "end_time": "2021-07-31T17:55:07.138755Z",
     "start_time": "2021-07-31T17:55:07.122101Z"
    }
   },
   "outputs": [],
   "source": [
    "bass = c_t(data.year, P, Q, M)\n"
   ]
  }
 ],
 "metadata": {
  "hide_input": false,
  "kernelspec": {
   "display_name": "env",
   "language": "python",
   "name": "python3"
  },
  "language_info": {
   "codemirror_mode": {
    "name": "ipython",
    "version": 3
   },
   "file_extension": ".py",
   "mimetype": "text/x-python",
   "name": "python",
   "nbconvert_exporter": "python",
   "pygments_lexer": "ipython3",
   "version": "3.10.9"
  },
  "toc": {
   "base_numbering": 1,
   "nav_menu": {},
   "number_sections": true,
   "sideBar": true,
   "skip_h1_title": false,
   "title_cell": "Table of Contents",
   "title_sidebar": "Contents",
   "toc_cell": false,
   "toc_position": {},
   "toc_section_display": true,
   "toc_window_display": false
  },
  "varInspector": {
   "cols": {
    "lenName": 16,
    "lenType": 16,
    "lenVar": 40
   },
   "kernels_config": {
    "python": {
     "delete_cmd_postfix": "",
     "delete_cmd_prefix": "del ",
     "library": "var_list.py",
     "varRefreshCmd": "print(var_dic_list())"
    },
    "r": {
     "delete_cmd_postfix": ") ",
     "delete_cmd_prefix": "rm(",
     "library": "var_list.r",
     "varRefreshCmd": "cat(var_dic_list()) "
    }
   },
   "types_to_exclude": [
    "module",
    "function",
    "builtin_function_or_method",
    "instance",
    "_Feature"
   ],
   "window_display": false
  },
  "vscode": {
   "interpreter": {
    "hash": "9a8ef36d6fd90066a2de10314e18d35c6f9107f7ea75b5c407dd39b4a56fd07c"
   }
  }
 },
 "nbformat": 4,
 "nbformat_minor": 5
}

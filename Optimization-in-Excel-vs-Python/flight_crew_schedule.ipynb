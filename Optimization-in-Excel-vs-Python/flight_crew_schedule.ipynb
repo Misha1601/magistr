{
 "cells": [
  {
   "cell_type": "markdown",
   "id": "e2e93b50",
   "metadata": {},
   "source": [
    "# Import Data"
   ]
  },
  {
   "cell_type": "code",
   "execution_count": 38,
   "id": "e5af8a44",
   "metadata": {
    "ExecuteTime": {
     "end_time": "2021-07-31T17:55:05.395527Z",
     "start_time": "2021-07-31T17:55:02.832321Z"
    }
   },
   "outputs": [],
   "source": [
    "import pandas as pd\n",
    "import cvxpy as cp\n",
    "import numpy as np\n",
    "#import gdown"
   ]
  },
  {
   "cell_type": "code",
   "execution_count": 39,
   "id": "4a45d599",
   "metadata": {
    "ExecuteTime": {
     "end_time": "2021-07-31T17:55:07.071543Z",
     "start_time": "2021-07-31T17:55:05.398573Z"
    }
   },
   "outputs": [],
   "source": [
    "#url = \"https://drive.google.com/uc?id=1TPXha3ojq2e9ygGN9r2249jPieaKL1ZR\"\n",
    "#output = \"flight_schedule.csv\"\n",
    "#gdown.download(url, output)"
   ]
  },
  {
   "cell_type": "code",
   "execution_count": 40,
   "id": "12f014a6",
   "metadata": {
    "ExecuteTime": {
     "end_time": "2021-07-31T17:55:07.087808Z",
     "start_time": "2021-07-31T17:55:07.076727Z"
    }
   },
   "outputs": [],
   "source": [
    "df = pd.read_csv(\"flight_schedule.csv\", index_col=0, header=1)\n",
    "schedule = df.iloc[:-2]\n",
    "cost = df.iloc[-2]\n",
    "hours = df.iloc[-1]"
   ]
  },
  {
   "cell_type": "code",
   "execution_count": 41,
   "id": "819bde6a",
   "metadata": {
    "ExecuteTime": {
     "end_time": "2021-07-31T17:55:07.099532Z",
     "start_time": "2021-07-31T17:55:07.091994Z"
    }
   },
   "outputs": [
    {
     "data": {
      "text/html": [
       "<div>\n",
       "<style scoped>\n",
       "    .dataframe tbody tr th:only-of-type {\n",
       "        vertical-align: middle;\n",
       "    }\n",
       "\n",
       "    .dataframe tbody tr th {\n",
       "        vertical-align: top;\n",
       "    }\n",
       "\n",
       "    .dataframe thead th {\n",
       "        text-align: right;\n",
       "    }\n",
       "</style>\n",
       "<table border=\"1\" class=\"dataframe\">\n",
       "  <thead>\n",
       "    <tr style=\"text-align: right;\">\n",
       "      <th></th>\n",
       "      <th>1</th>\n",
       "      <th>2</th>\n",
       "      <th>3</th>\n",
       "      <th>4</th>\n",
       "      <th>5</th>\n",
       "      <th>6</th>\n",
       "      <th>7</th>\n",
       "      <th>8</th>\n",
       "    </tr>\n",
       "    <tr>\n",
       "      <th>Requirement (Flight)</th>\n",
       "      <th></th>\n",
       "      <th></th>\n",
       "      <th></th>\n",
       "      <th></th>\n",
       "      <th></th>\n",
       "      <th></th>\n",
       "      <th></th>\n",
       "      <th></th>\n",
       "    </tr>\n",
       "  </thead>\n",
       "  <tbody>\n",
       "    <tr>\n",
       "      <th>New York to Buffalo</th>\n",
       "      <td>1</td>\n",
       "      <td>0</td>\n",
       "      <td>0</td>\n",
       "      <td>1</td>\n",
       "      <td>0</td>\n",
       "      <td>0</td>\n",
       "      <td>1</td>\n",
       "      <td>0</td>\n",
       "    </tr>\n",
       "    <tr>\n",
       "      <th>New York to Cincinnati</th>\n",
       "      <td>0</td>\n",
       "      <td>1</td>\n",
       "      <td>0</td>\n",
       "      <td>0</td>\n",
       "      <td>1</td>\n",
       "      <td>0</td>\n",
       "      <td>0</td>\n",
       "      <td>0</td>\n",
       "    </tr>\n",
       "    <tr>\n",
       "      <th>New York to Chicago</th>\n",
       "      <td>0</td>\n",
       "      <td>0</td>\n",
       "      <td>1</td>\n",
       "      <td>0</td>\n",
       "      <td>0</td>\n",
       "      <td>1</td>\n",
       "      <td>0</td>\n",
       "      <td>1</td>\n",
       "    </tr>\n",
       "    <tr>\n",
       "      <th>Buffalo to Chicago</th>\n",
       "      <td>2</td>\n",
       "      <td>0</td>\n",
       "      <td>0</td>\n",
       "      <td>2</td>\n",
       "      <td>0</td>\n",
       "      <td>0</td>\n",
       "      <td>0</td>\n",
       "      <td>0</td>\n",
       "    </tr>\n",
       "    <tr>\n",
       "      <th>Chicago to Cincinnati</th>\n",
       "      <td>0</td>\n",
       "      <td>0</td>\n",
       "      <td>2</td>\n",
       "      <td>3</td>\n",
       "      <td>0</td>\n",
       "      <td>2</td>\n",
       "      <td>0</td>\n",
       "      <td>0</td>\n",
       "    </tr>\n",
       "    <tr>\n",
       "      <th>Cincinnati to Pittsburgh</th>\n",
       "      <td>0</td>\n",
       "      <td>2</td>\n",
       "      <td>0</td>\n",
       "      <td>4</td>\n",
       "      <td>0</td>\n",
       "      <td>3</td>\n",
       "      <td>0</td>\n",
       "      <td>0</td>\n",
       "    </tr>\n",
       "    <tr>\n",
       "      <th>Cincinnati to Buffalo</th>\n",
       "      <td>0</td>\n",
       "      <td>0</td>\n",
       "      <td>3</td>\n",
       "      <td>0</td>\n",
       "      <td>2</td>\n",
       "      <td>0</td>\n",
       "      <td>0</td>\n",
       "      <td>0</td>\n",
       "    </tr>\n",
       "    <tr>\n",
       "      <th>Buffalo to New York</th>\n",
       "      <td>0</td>\n",
       "      <td>0</td>\n",
       "      <td>4</td>\n",
       "      <td>0</td>\n",
       "      <td>3</td>\n",
       "      <td>0</td>\n",
       "      <td>2</td>\n",
       "      <td>0</td>\n",
       "    </tr>\n",
       "    <tr>\n",
       "      <th>Pittsburgh to New York</th>\n",
       "      <td>0</td>\n",
       "      <td>3</td>\n",
       "      <td>0</td>\n",
       "      <td>5</td>\n",
       "      <td>0</td>\n",
       "      <td>4</td>\n",
       "      <td>0</td>\n",
       "      <td>0</td>\n",
       "    </tr>\n",
       "    <tr>\n",
       "      <th>Chicago to New York</th>\n",
       "      <td>3</td>\n",
       "      <td>0</td>\n",
       "      <td>0</td>\n",
       "      <td>0</td>\n",
       "      <td>0</td>\n",
       "      <td>0</td>\n",
       "      <td>0</td>\n",
       "      <td>2</td>\n",
       "    </tr>\n",
       "    <tr>\n",
       "      <th>Cost ($1000) for each sequence</th>\n",
       "      <td>5</td>\n",
       "      <td>4</td>\n",
       "      <td>4</td>\n",
       "      <td>9</td>\n",
       "      <td>7</td>\n",
       "      <td>8</td>\n",
       "      <td>3</td>\n",
       "      <td>3</td>\n",
       "    </tr>\n",
       "    <tr>\n",
       "      <th>Hours</th>\n",
       "      <td>396</td>\n",
       "      <td>352</td>\n",
       "      <td>1022</td>\n",
       "      <td>847</td>\n",
       "      <td>687</td>\n",
       "      <td>531</td>\n",
       "      <td>236</td>\n",
       "      <td>179</td>\n",
       "    </tr>\n",
       "  </tbody>\n",
       "</table>\n",
       "</div>"
      ],
      "text/plain": [
       "                                  1    2     3    4    5    6    7    8\n",
       "Requirement (Flight)                                                   \n",
       "New York to Buffalo               1    0     0    1    0    0    1    0\n",
       "New York to Cincinnati            0    1     0    0    1    0    0    0\n",
       "New York to Chicago               0    0     1    0    0    1    0    1\n",
       "Buffalo to Chicago                2    0     0    2    0    0    0    0\n",
       "Chicago to Cincinnati             0    0     2    3    0    2    0    0\n",
       "Cincinnati to Pittsburgh          0    2     0    4    0    3    0    0\n",
       "Cincinnati to Buffalo             0    0     3    0    2    0    0    0\n",
       "Buffalo to New York               0    0     4    0    3    0    2    0\n",
       "Pittsburgh to New York            0    3     0    5    0    4    0    0\n",
       "Chicago to New York               3    0     0    0    0    0    0    2\n",
       "Cost ($1000) for each sequence    5    4     4    9    7    8    3    3\n",
       "Hours                           396  352  1022  847  687  531  236  179"
      ]
     },
     "execution_count": 41,
     "metadata": {},
     "output_type": "execute_result"
    }
   ],
   "source": [
    "# cost\n",
    "df"
   ]
  },
  {
   "cell_type": "code",
   "execution_count": 42,
   "id": "030c95fe",
   "metadata": {
    "ExecuteTime": {
     "end_time": "2021-07-31T17:55:07.107622Z",
     "start_time": "2021-07-31T17:55:07.101835Z"
    }
   },
   "outputs": [
    {
     "data": {
      "text/plain": [
       "1     396\n",
       "2     352\n",
       "3    1022\n",
       "4     847\n",
       "5     687\n",
       "6     531\n",
       "7     236\n",
       "8     179\n",
       "Name: Hours, dtype: int64"
      ]
     },
     "execution_count": 42,
     "metadata": {},
     "output_type": "execute_result"
    }
   ],
   "source": [
    "hours"
   ]
  },
  {
   "cell_type": "code",
   "execution_count": 43,
   "id": "d4e3d00c",
   "metadata": {
    "ExecuteTime": {
     "end_time": "2021-07-31T17:55:07.119576Z",
     "start_time": "2021-07-31T17:55:07.110942Z"
    }
   },
   "outputs": [],
   "source": [
    "schedule = schedule.applymap(lambda x: 1 if x >= 1 else x)"
   ]
  },
  {
   "cell_type": "code",
   "execution_count": 44,
   "id": "984ca3fe",
   "metadata": {
    "ExecuteTime": {
     "end_time": "2021-07-31T17:55:07.138755Z",
     "start_time": "2021-07-31T17:55:07.122101Z"
    }
   },
   "outputs": [
    {
     "data": {
      "text/html": [
       "<div>\n",
       "<style scoped>\n",
       "    .dataframe tbody tr th:only-of-type {\n",
       "        vertical-align: middle;\n",
       "    }\n",
       "\n",
       "    .dataframe tbody tr th {\n",
       "        vertical-align: top;\n",
       "    }\n",
       "\n",
       "    .dataframe thead th {\n",
       "        text-align: right;\n",
       "    }\n",
       "</style>\n",
       "<table border=\"1\" class=\"dataframe\">\n",
       "  <thead>\n",
       "    <tr style=\"text-align: right;\">\n",
       "      <th></th>\n",
       "      <th>1</th>\n",
       "      <th>2</th>\n",
       "      <th>3</th>\n",
       "      <th>4</th>\n",
       "      <th>5</th>\n",
       "      <th>6</th>\n",
       "      <th>7</th>\n",
       "      <th>8</th>\n",
       "    </tr>\n",
       "    <tr>\n",
       "      <th>Requirement (Flight)</th>\n",
       "      <th></th>\n",
       "      <th></th>\n",
       "      <th></th>\n",
       "      <th></th>\n",
       "      <th></th>\n",
       "      <th></th>\n",
       "      <th></th>\n",
       "      <th></th>\n",
       "    </tr>\n",
       "  </thead>\n",
       "  <tbody>\n",
       "    <tr>\n",
       "      <th>New York to Buffalo</th>\n",
       "      <td>1</td>\n",
       "      <td>0</td>\n",
       "      <td>0</td>\n",
       "      <td>1</td>\n",
       "      <td>0</td>\n",
       "      <td>0</td>\n",
       "      <td>1</td>\n",
       "      <td>0</td>\n",
       "    </tr>\n",
       "    <tr>\n",
       "      <th>New York to Cincinnati</th>\n",
       "      <td>0</td>\n",
       "      <td>1</td>\n",
       "      <td>0</td>\n",
       "      <td>0</td>\n",
       "      <td>1</td>\n",
       "      <td>0</td>\n",
       "      <td>0</td>\n",
       "      <td>0</td>\n",
       "    </tr>\n",
       "    <tr>\n",
       "      <th>New York to Chicago</th>\n",
       "      <td>0</td>\n",
       "      <td>0</td>\n",
       "      <td>1</td>\n",
       "      <td>0</td>\n",
       "      <td>0</td>\n",
       "      <td>1</td>\n",
       "      <td>0</td>\n",
       "      <td>1</td>\n",
       "    </tr>\n",
       "    <tr>\n",
       "      <th>Buffalo to Chicago</th>\n",
       "      <td>1</td>\n",
       "      <td>0</td>\n",
       "      <td>0</td>\n",
       "      <td>1</td>\n",
       "      <td>0</td>\n",
       "      <td>0</td>\n",
       "      <td>0</td>\n",
       "      <td>0</td>\n",
       "    </tr>\n",
       "    <tr>\n",
       "      <th>Chicago to Cincinnati</th>\n",
       "      <td>0</td>\n",
       "      <td>0</td>\n",
       "      <td>1</td>\n",
       "      <td>1</td>\n",
       "      <td>0</td>\n",
       "      <td>1</td>\n",
       "      <td>0</td>\n",
       "      <td>0</td>\n",
       "    </tr>\n",
       "    <tr>\n",
       "      <th>Cincinnati to Pittsburgh</th>\n",
       "      <td>0</td>\n",
       "      <td>1</td>\n",
       "      <td>0</td>\n",
       "      <td>1</td>\n",
       "      <td>0</td>\n",
       "      <td>1</td>\n",
       "      <td>0</td>\n",
       "      <td>0</td>\n",
       "    </tr>\n",
       "    <tr>\n",
       "      <th>Cincinnati to Buffalo</th>\n",
       "      <td>0</td>\n",
       "      <td>0</td>\n",
       "      <td>1</td>\n",
       "      <td>0</td>\n",
       "      <td>1</td>\n",
       "      <td>0</td>\n",
       "      <td>0</td>\n",
       "      <td>0</td>\n",
       "    </tr>\n",
       "    <tr>\n",
       "      <th>Buffalo to New York</th>\n",
       "      <td>0</td>\n",
       "      <td>0</td>\n",
       "      <td>1</td>\n",
       "      <td>0</td>\n",
       "      <td>1</td>\n",
       "      <td>0</td>\n",
       "      <td>1</td>\n",
       "      <td>0</td>\n",
       "    </tr>\n",
       "    <tr>\n",
       "      <th>Pittsburgh to New York</th>\n",
       "      <td>0</td>\n",
       "      <td>1</td>\n",
       "      <td>0</td>\n",
       "      <td>1</td>\n",
       "      <td>0</td>\n",
       "      <td>1</td>\n",
       "      <td>0</td>\n",
       "      <td>0</td>\n",
       "    </tr>\n",
       "    <tr>\n",
       "      <th>Chicago to New York</th>\n",
       "      <td>1</td>\n",
       "      <td>0</td>\n",
       "      <td>0</td>\n",
       "      <td>0</td>\n",
       "      <td>0</td>\n",
       "      <td>0</td>\n",
       "      <td>0</td>\n",
       "      <td>1</td>\n",
       "    </tr>\n",
       "  </tbody>\n",
       "</table>\n",
       "</div>"
      ],
      "text/plain": [
       "                          1  2  3  4  5  6  7  8\n",
       "Requirement (Flight)                            \n",
       "New York to Buffalo       1  0  0  1  0  0  1  0\n",
       "New York to Cincinnati    0  1  0  0  1  0  0  0\n",
       "New York to Chicago       0  0  1  0  0  1  0  1\n",
       "Buffalo to Chicago        1  0  0  1  0  0  0  0\n",
       "Chicago to Cincinnati     0  0  1  1  0  1  0  0\n",
       "Cincinnati to Pittsburgh  0  1  0  1  0  1  0  0\n",
       "Cincinnati to Buffalo     0  0  1  0  1  0  0  0\n",
       "Buffalo to New York       0  0  1  0  1  0  1  0\n",
       "Pittsburgh to New York    0  1  0  1  0  1  0  0\n",
       "Chicago to New York       1  0  0  0  0  0  0  1"
      ]
     },
     "execution_count": 44,
     "metadata": {},
     "output_type": "execute_result"
    }
   ],
   "source": [
    "schedule"
   ]
  },
  {
   "cell_type": "markdown",
   "id": "82a072d4",
   "metadata": {},
   "source": [
    "# Minimize Cost"
   ]
  },
  {
   "cell_type": "markdown",
   "id": "7f0e7f74",
   "metadata": {},
   "source": [
    "Input parameters: \n",
    "* $a$: 0-1 matrix\n",
    "* $c_j$: cost for each feasible sequence of flight ($j=1, 2, ..8$)\n",
    "* $b_i$: requirement vector ($i=1, 2, ..., 10$)"
   ]
  },
  {
   "cell_type": "code",
   "execution_count": 45,
   "id": "32f63055",
   "metadata": {
    "ExecuteTime": {
     "end_time": "2021-07-31T17:55:07.147614Z",
     "start_time": "2021-07-31T17:55:07.144564Z"
    }
   },
   "outputs": [],
   "source": [
    "a = schedule.values\n",
    "c = cost.values\n",
    "b = np.ones(len(a))"
   ]
  },
  {
   "cell_type": "markdown",
   "id": "ccab3549",
   "metadata": {},
   "source": [
    "Decision variable: \n",
    "\n",
    "$y_j=1$ or $0$: Whether the flight sequence $j$ is selected"
   ]
  },
  {
   "cell_type": "code",
   "execution_count": 46,
   "id": "04bb647b",
   "metadata": {
    "ExecuteTime": {
     "end_time": "2021-07-31T17:55:07.155428Z",
     "start_time": "2021-07-31T17:55:07.152292Z"
    }
   },
   "outputs": [],
   "source": [
    "y = cp.Variable(len(c), boolean=True)"
   ]
  },
  {
   "cell_type": "markdown",
   "id": "59ba8d11",
   "metadata": {},
   "source": [
    "Constraint: ensure that at least one crew is assigned to each flight.\n",
    "\n",
    "For example, to make sure that at least one crew is assigned to the first flight, we have constraint:\n",
    "$$y_1 + y_4 + y_7 \\geq 1$$\n",
    "\n",
    "Generalize this constraint for all 10 flights, we have:\n",
    "\n",
    "$$\n",
    "\\begin{pmatrix}\n",
    "  1  &  0  &  0  &  1  &  0  &  0  &  1  &  0 \\\\\n",
    "  0  &  1  &  0  &  0  &  1  &  0  &  0  &  0 \\\\\n",
    "  0  &  0  &  1  &  0  &  0  &  1  &  0  &  1 \\\\\n",
    "  1  &  0  &  0  &  1  &  0  &  0  &  0  &  0 \\\\\n",
    "  0  &  0  &  1  &  1  &  0  &  1  &  0  &  0 \\\\\n",
    "  0  &  1  &  0  &  1  &  0  &  1  &  0  &  0 \\\\\n",
    "  0  &  0  &  1  &  0  &  1  &  0  &  0  &  0 \\\\\n",
    "  0  &  0  &  1  &  0  &  1  &  0  &  1  &  0 \\\\\n",
    "  0  &  1  &  0  &  1  &  0  &  1  &  0  &  0 \\\\\n",
    "  1  &  0  &  0  &  0  &  0  &  0  &  0  &  1 \n",
    "\\end{pmatrix}\n",
    "\\begin{pmatrix}\n",
    "y_1\\\\\n",
    "y_2\\\\\n",
    "y_3\\\\\n",
    "y_4\\\\\n",
    "y_5\\\\\n",
    "y_6\\\\\n",
    "y_7\\\\\n",
    "y_8\\\\\n",
    "\\end{pmatrix} \\geq\n",
    "\\begin{pmatrix}\n",
    "1\\\\\n",
    "1\\\\\n",
    "1\\\\\n",
    "1\\\\\n",
    "1\\\\\n",
    "1\\\\\n",
    "1\\\\\n",
    "1\\\\\n",
    "\\end{pmatrix}\n",
    "$$\n",
    "\n",
    "$y_j=0$ or $1$ $j=1,2,...,8$"
   ]
  },
  {
   "cell_type": "code",
   "execution_count": 47,
   "id": "6a6f579d",
   "metadata": {
    "ExecuteTime": {
     "end_time": "2021-07-31T17:55:07.160497Z",
     "start_time": "2021-07-31T17:55:07.157266Z"
    }
   },
   "outputs": [],
   "source": [
    "constraints = [a @ y >= b]"
   ]
  },
  {
   "cell_type": "markdown",
   "id": "8bcd9014",
   "metadata": {},
   "source": [
    "Objective: minimize the total cost of assigning crews to the selected sequence of flights\n",
    "\n",
    "$$\\min \\;\\; z=5y_1 + 4y_2 + 4y_3 + 9y_4 + 7y_5 + 8y_6 + 3y_7 + 3y_8$$"
   ]
  },
  {
   "cell_type": "code",
   "execution_count": 48,
   "id": "f3366e2e",
   "metadata": {
    "ExecuteTime": {
     "end_time": "2021-07-31T17:55:07.165819Z",
     "start_time": "2021-07-31T17:55:07.162664Z"
    }
   },
   "outputs": [],
   "source": [
    "obj = cp.Minimize(c @ y)"
   ]
  },
  {
   "cell_type": "code",
   "execution_count": 49,
   "id": "8728c07c",
   "metadata": {
    "ExecuteTime": {
     "end_time": "2021-07-31T17:55:07.171338Z",
     "start_time": "2021-07-31T17:55:07.168580Z"
    }
   },
   "outputs": [],
   "source": [
    "prob = cp.Problem(obj, constraints)"
   ]
  },
  {
   "cell_type": "code",
   "execution_count": 50,
   "id": "0cbca63f",
   "metadata": {
    "ExecuteTime": {
     "end_time": "2021-07-31T17:55:07.190545Z",
     "start_time": "2021-07-31T17:55:07.173979Z"
    }
   },
   "outputs": [
    {
     "ename": "SolverError",
     "evalue": "The solver GLPK_MI is not installed.",
     "output_type": "error",
     "traceback": [
      "\u001b[1;31m---------------------------------------------------------------------------\u001b[0m",
      "\u001b[1;31mSolverError\u001b[0m                               Traceback (most recent call last)",
      "Cell \u001b[1;32mIn[50], line 1\u001b[0m\n\u001b[1;32m----> 1\u001b[0m prob\u001b[39m.\u001b[39;49msolve(solver\u001b[39m=\u001b[39;49mcp\u001b[39m.\u001b[39;49mGLPK_MI)\n",
      "File \u001b[1;32mc:\\Users\\Nikiforov\\Desktop\\Магистратура\\magistr\\env\\lib\\site-packages\\cvxpy\\problems\\problem.py:493\u001b[0m, in \u001b[0;36mProblem.solve\u001b[1;34m(self, *args, **kwargs)\u001b[0m\n\u001b[0;32m    491\u001b[0m \u001b[39melse\u001b[39;00m:\n\u001b[0;32m    492\u001b[0m     solve_func \u001b[39m=\u001b[39m Problem\u001b[39m.\u001b[39m_solve\n\u001b[1;32m--> 493\u001b[0m \u001b[39mreturn\u001b[39;00m solve_func(\u001b[39mself\u001b[39m, \u001b[39m*\u001b[39margs, \u001b[39m*\u001b[39m\u001b[39m*\u001b[39mkwargs)\n",
      "File \u001b[1;32mc:\\Users\\Nikiforov\\Desktop\\Магистратура\\magistr\\env\\lib\\site-packages\\cvxpy\\problems\\problem.py:1054\u001b[0m, in \u001b[0;36mProblem._solve\u001b[1;34m(self, solver, warm_start, verbose, gp, qcp, requires_grad, enforce_dpp, ignore_dpp, canon_backend, **kwargs)\u001b[0m\n\u001b[0;32m   1051\u001b[0m         \u001b[39mself\u001b[39m\u001b[39m.\u001b[39munpack(chain\u001b[39m.\u001b[39mretrieve(soln))\n\u001b[0;32m   1052\u001b[0m         \u001b[39mreturn\u001b[39;00m \u001b[39mself\u001b[39m\u001b[39m.\u001b[39mvalue\n\u001b[1;32m-> 1054\u001b[0m data, solving_chain, inverse_data \u001b[39m=\u001b[39m \u001b[39mself\u001b[39;49m\u001b[39m.\u001b[39;49mget_problem_data(\n\u001b[0;32m   1055\u001b[0m     solver, gp, enforce_dpp, ignore_dpp, verbose, canon_backend, kwargs\n\u001b[0;32m   1056\u001b[0m )\n\u001b[0;32m   1058\u001b[0m \u001b[39mif\u001b[39;00m verbose:\n\u001b[0;32m   1059\u001b[0m     \u001b[39mprint\u001b[39m(_NUM_SOLVER_STR)\n",
      "File \u001b[1;32mc:\\Users\\Nikiforov\\Desktop\\Магистратура\\magistr\\env\\lib\\site-packages\\cvxpy\\problems\\problem.py:631\u001b[0m, in \u001b[0;36mProblem.get_problem_data\u001b[1;34m(self, solver, gp, enforce_dpp, ignore_dpp, verbose, canon_backend, solver_opts)\u001b[0m\n\u001b[0;32m    629\u001b[0m \u001b[39mif\u001b[39;00m key \u001b[39m!=\u001b[39m \u001b[39mself\u001b[39m\u001b[39m.\u001b[39m_cache\u001b[39m.\u001b[39mkey:\n\u001b[0;32m    630\u001b[0m     \u001b[39mself\u001b[39m\u001b[39m.\u001b[39m_cache\u001b[39m.\u001b[39minvalidate()\n\u001b[1;32m--> 631\u001b[0m     solving_chain \u001b[39m=\u001b[39m \u001b[39mself\u001b[39;49m\u001b[39m.\u001b[39;49m_construct_chain(\n\u001b[0;32m    632\u001b[0m         solver\u001b[39m=\u001b[39;49msolver, gp\u001b[39m=\u001b[39;49mgp,\n\u001b[0;32m    633\u001b[0m         enforce_dpp\u001b[39m=\u001b[39;49menforce_dpp,\n\u001b[0;32m    634\u001b[0m         ignore_dpp\u001b[39m=\u001b[39;49mignore_dpp,\n\u001b[0;32m    635\u001b[0m         canon_backend\u001b[39m=\u001b[39;49mcanon_backend,\n\u001b[0;32m    636\u001b[0m         solver_opts\u001b[39m=\u001b[39;49msolver_opts)\n\u001b[0;32m    637\u001b[0m     \u001b[39mself\u001b[39m\u001b[39m.\u001b[39m_cache\u001b[39m.\u001b[39mkey \u001b[39m=\u001b[39m key\n\u001b[0;32m    638\u001b[0m     \u001b[39mself\u001b[39m\u001b[39m.\u001b[39m_cache\u001b[39m.\u001b[39msolving_chain \u001b[39m=\u001b[39m solving_chain\n",
      "File \u001b[1;32mc:\\Users\\Nikiforov\\Desktop\\Магистратура\\magistr\\env\\lib\\site-packages\\cvxpy\\problems\\problem.py:881\u001b[0m, in \u001b[0;36mProblem._construct_chain\u001b[1;34m(self, solver, gp, enforce_dpp, ignore_dpp, canon_backend, solver_opts)\u001b[0m\n\u001b[0;32m    839\u001b[0m \u001b[39mdef\u001b[39;00m \u001b[39m_construct_chain\u001b[39m(\n\u001b[0;32m    840\u001b[0m         \u001b[39mself\u001b[39m,\n\u001b[0;32m    841\u001b[0m         solver: Optional[\u001b[39mstr\u001b[39m] \u001b[39m=\u001b[39m \u001b[39mNone\u001b[39;00m,\n\u001b[1;32m   (...)\u001b[0m\n\u001b[0;32m    846\u001b[0m         solver_opts: Optional[\u001b[39mdict\u001b[39m] \u001b[39m=\u001b[39m \u001b[39mNone\u001b[39;00m\n\u001b[0;32m    847\u001b[0m ) \u001b[39m-\u001b[39m\u001b[39m>\u001b[39m SolvingChain:\n\u001b[0;32m    848\u001b[0m \u001b[39m    \u001b[39m\u001b[39m\"\"\"\u001b[39;00m\n\u001b[0;32m    849\u001b[0m \u001b[39m    Construct the chains required to reformulate and solve the problem.\u001b[39;00m\n\u001b[0;32m    850\u001b[0m \n\u001b[1;32m   (...)\u001b[0m\n\u001b[0;32m    879\u001b[0m \u001b[39m    A solving chain\u001b[39;00m\n\u001b[0;32m    880\u001b[0m \u001b[39m    \"\"\"\u001b[39;00m\n\u001b[1;32m--> 881\u001b[0m     candidate_solvers \u001b[39m=\u001b[39m \u001b[39mself\u001b[39;49m\u001b[39m.\u001b[39;49m_find_candidate_solvers(solver\u001b[39m=\u001b[39;49msolver, gp\u001b[39m=\u001b[39;49mgp)\n\u001b[0;32m    882\u001b[0m     \u001b[39mself\u001b[39m\u001b[39m.\u001b[39m_sort_candidate_solvers(candidate_solvers)\n\u001b[0;32m    883\u001b[0m     \u001b[39mreturn\u001b[39;00m construct_solving_chain(\u001b[39mself\u001b[39m, candidate_solvers, gp\u001b[39m=\u001b[39mgp,\n\u001b[0;32m    884\u001b[0m                                    enforce_dpp\u001b[39m=\u001b[39menforce_dpp,\n\u001b[0;32m    885\u001b[0m                                    ignore_dpp\u001b[39m=\u001b[39mignore_dpp,\n\u001b[0;32m    886\u001b[0m                                    canon_backend\u001b[39m=\u001b[39mcanon_backend,\n\u001b[0;32m    887\u001b[0m                                    solver_opts\u001b[39m=\u001b[39msolver_opts)\n",
      "File \u001b[1;32mc:\\Users\\Nikiforov\\Desktop\\Магистратура\\magistr\\env\\lib\\site-packages\\cvxpy\\problems\\problem.py:744\u001b[0m, in \u001b[0;36mProblem._find_candidate_solvers\u001b[1;34m(self, solver, gp)\u001b[0m\n\u001b[0;32m    742\u001b[0m \u001b[39mif\u001b[39;00m solver \u001b[39mis\u001b[39;00m \u001b[39mnot\u001b[39;00m \u001b[39mNone\u001b[39;00m:\n\u001b[0;32m    743\u001b[0m     \u001b[39mif\u001b[39;00m solver \u001b[39mnot\u001b[39;00m \u001b[39min\u001b[39;00m slv_def\u001b[39m.\u001b[39mINSTALLED_SOLVERS:\n\u001b[1;32m--> 744\u001b[0m         \u001b[39mraise\u001b[39;00m error\u001b[39m.\u001b[39mSolverError(\u001b[39m\"\u001b[39m\u001b[39mThe solver \u001b[39m\u001b[39m%s\u001b[39;00m\u001b[39m is not installed.\u001b[39m\u001b[39m\"\u001b[39m \u001b[39m%\u001b[39m solver)\n\u001b[0;32m    745\u001b[0m     \u001b[39mif\u001b[39;00m solver \u001b[39min\u001b[39;00m slv_def\u001b[39m.\u001b[39mCONIC_SOLVERS:\n\u001b[0;32m    746\u001b[0m         candidates[\u001b[39m'\u001b[39m\u001b[39mconic_solvers\u001b[39m\u001b[39m'\u001b[39m] \u001b[39m+\u001b[39m\u001b[39m=\u001b[39m [solver]\n",
      "\u001b[1;31mSolverError\u001b[0m: The solver GLPK_MI is not installed."
     ]
    }
   ],
   "source": [
    "prob.solve(solver=cp.GLPK_MI)"
   ]
  },
  {
   "cell_type": "code",
   "execution_count": null,
   "id": "579fae76",
   "metadata": {
    "ExecuteTime": {
     "end_time": "2021-07-31T17:55:07.198041Z",
     "start_time": "2021-07-31T17:55:07.193277Z"
    }
   },
   "outputs": [
    {
     "name": "stdout",
     "output_type": "stream",
     "text": [
      "None\n"
     ]
    }
   ],
   "source": [
    "print(prob.status)"
   ]
  },
  {
   "cell_type": "code",
   "execution_count": null,
   "id": "c47c1989",
   "metadata": {
    "ExecuteTime": {
     "end_time": "2021-07-31T17:55:07.206510Z",
     "start_time": "2021-07-31T17:55:07.201891Z"
    }
   },
   "outputs": [
    {
     "name": "stdout",
     "output_type": "stream",
     "text": [
      "[1. 1. 1. 0. 0. 0. 0. 0.]\n"
     ]
    }
   ],
   "source": [
    "print(y.value)"
   ]
  },
  {
   "cell_type": "markdown",
   "id": "ad7944ac",
   "metadata": {},
   "source": [
    "# Hours"
   ]
  },
  {
   "cell_type": "code",
   "execution_count": null,
   "id": "468567cd",
   "metadata": {
    "ExecuteTime": {
     "end_time": "2021-07-31T17:55:07.215358Z",
     "start_time": "2021-07-31T17:55:07.209546Z"
    }
   },
   "outputs": [
    {
     "data": {
      "text/plain": [
       "array([ 396,  352, 1022,  847,  687,  531,  236,  179], dtype=int64)"
      ]
     },
     "execution_count": 17,
     "metadata": {},
     "output_type": "execute_result"
    }
   ],
   "source": [
    "h = hours.values\n",
    "h"
   ]
  },
  {
   "cell_type": "markdown",
   "id": "85f2f082",
   "metadata": {},
   "source": [
    "Constraints:\n",
    "* There must be at least one airplane per flight\n",
    "$$a \\cdot y\\geq b$$\n",
    "\n",
    "* The total hours of flights must be less than or equal to 1700\n",
    "$$h \\cdot y \\leq 1700$$"
   ]
  },
  {
   "cell_type": "code",
   "execution_count": null,
   "id": "0755033c",
   "metadata": {
    "ExecuteTime": {
     "end_time": "2021-07-31T17:55:07.221157Z",
     "start_time": "2021-07-31T17:55:07.217843Z"
    }
   },
   "outputs": [],
   "source": [
    "constraints = [a @ y >= b, h @ y <= 1700]"
   ]
  },
  {
   "cell_type": "code",
   "execution_count": null,
   "id": "357eebce",
   "metadata": {
    "ExecuteTime": {
     "end_time": "2021-07-31T17:55:07.225756Z",
     "start_time": "2021-07-31T17:55:07.223226Z"
    }
   },
   "outputs": [],
   "source": [
    "prob = cp.Problem(obj, constraints)"
   ]
  },
  {
   "cell_type": "code",
   "execution_count": null,
   "id": "bbaac0e2",
   "metadata": {
    "ExecuteTime": {
     "end_time": "2021-07-31T17:55:07.243097Z",
     "start_time": "2021-07-31T17:55:07.228092Z"
    }
   },
   "outputs": [
    {
     "data": {
      "text/plain": [
       "20.0"
      ]
     },
     "execution_count": 20,
     "metadata": {},
     "output_type": "execute_result"
    }
   ],
   "source": [
    "prob.solve(solver=cp.GLPK_MI)"
   ]
  },
  {
   "cell_type": "code",
   "execution_count": null,
   "id": "4899ab4d",
   "metadata": {
    "ExecuteTime": {
     "end_time": "2021-07-31T17:55:07.251831Z",
     "start_time": "2021-07-31T17:55:07.246412Z"
    }
   },
   "outputs": [
    {
     "name": "stdout",
     "output_type": "stream",
     "text": [
      "[1. 0. 0. 0. 1. 1. 0. 0.]\n"
     ]
    }
   ],
   "source": [
    "print(y.value)"
   ]
  },
  {
   "cell_type": "markdown",
   "id": "774bbe55",
   "metadata": {},
   "source": [
    "$$396 + 352 + 1022 = 1770$$\n",
    "$$396 + 687 + 531 = 1614$$"
   ]
  },
  {
   "cell_type": "code",
   "execution_count": null,
   "id": "22d3e4db",
   "metadata": {},
   "outputs": [],
   "source": []
  }
 ],
 "metadata": {
  "hide_input": false,
  "kernelspec": {
   "display_name": "env",
   "language": "python",
   "name": "python3"
  },
  "language_info": {
   "codemirror_mode": {
    "name": "ipython",
    "version": 3
   },
   "file_extension": ".py",
   "mimetype": "text/x-python",
   "name": "python",
   "nbconvert_exporter": "python",
   "pygments_lexer": "ipython3",
   "version": "3.10.9"
  },
  "toc": {
   "base_numbering": 1,
   "nav_menu": {},
   "number_sections": true,
   "sideBar": true,
   "skip_h1_title": false,
   "title_cell": "Table of Contents",
   "title_sidebar": "Contents",
   "toc_cell": false,
   "toc_position": {},
   "toc_section_display": true,
   "toc_window_display": false
  },
  "varInspector": {
   "cols": {
    "lenName": 16,
    "lenType": 16,
    "lenVar": 40
   },
   "kernels_config": {
    "python": {
     "delete_cmd_postfix": "",
     "delete_cmd_prefix": "del ",
     "library": "var_list.py",
     "varRefreshCmd": "print(var_dic_list())"
    },
    "r": {
     "delete_cmd_postfix": ") ",
     "delete_cmd_prefix": "rm(",
     "library": "var_list.r",
     "varRefreshCmd": "cat(var_dic_list()) "
    }
   },
   "types_to_exclude": [
    "module",
    "function",
    "builtin_function_or_method",
    "instance",
    "_Feature"
   ],
   "window_display": false
  },
  "vscode": {
   "interpreter": {
    "hash": "9a8ef36d6fd90066a2de10314e18d35c6f9107f7ea75b5c407dd39b4a56fd07c"
   }
  }
 },
 "nbformat": 4,
 "nbformat_minor": 5
}

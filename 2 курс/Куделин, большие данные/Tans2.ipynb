{
 "cells": [
  {
   "cell_type": "code",
   "execution_count": 1,
   "metadata": {},
   "outputs": [
    {
     "name": "stderr",
     "output_type": "stream",
     "text": [
      "2023-10-21 20:16:44.269470: I tensorflow/tsl/cuda/cudart_stub.cc:28] Could not find cuda drivers on your machine, GPU will not be used.\n",
      "2023-10-21 20:16:44.330367: I tensorflow/tsl/cuda/cudart_stub.cc:28] Could not find cuda drivers on your machine, GPU will not be used.\n",
      "2023-10-21 20:16:44.332461: I tensorflow/core/platform/cpu_feature_guard.cc:182] This TensorFlow binary is optimized to use available CPU instructions in performance-critical operations.\n",
      "To enable the following instructions: AVX2 FMA, in other operations, rebuild TensorFlow with the appropriate compiler flags.\n",
      "2023-10-21 20:16:45.631802: W tensorflow/compiler/tf2tensorrt/utils/py_utils.cc:38] TF-TRT Warning: Could not find TensorRT\n"
     ]
    }
   ],
   "source": [
    "import numpy as np\n",
    "from tensorflow import keras\n",
    "from tensorflow.keras import layers\n",
    "import matplotlib.pyplot as plt\n",
    "%matplotlib inline\n",
    "from PIL import Image, ImageDraw\n",
    "import cv2\n",
    "import tkinter as tk\n",
    "from tkinter import Canvas, Button\n"
   ]
  },
  {
   "cell_type": "code",
   "execution_count": 2,
   "metadata": {},
   "outputs": [
    {
     "name": "stdout",
     "output_type": "stream",
     "text": [
      "x_train shape: (60000, 28, 28, 1)\n",
      "60000 train samples\n",
      "10000 test samples\n"
     ]
    }
   ],
   "source": [
    "# Model / data parameters\n",
    "num_classes = 10\n",
    "input_shape = (28, 28, 1)\n",
    "\n",
    "# Load the data and split it between train and test sets\n",
    "(x_train, y_train), (x_test, y_test) = keras.datasets.mnist.load_data()\n",
    "\n",
    "# Scale images to the [0, 1] range\n",
    "x_train = x_train.astype(\"float32\") / 255\n",
    "x_test = x_test.astype(\"float32\") / 255\n",
    "# Make sure images have shape (28, 28, 1)\n",
    "x_train = np.expand_dims(x_train, -1)\n",
    "x_test = np.expand_dims(x_test, -1)\n",
    "print(\"x_train shape:\", x_train.shape)\n",
    "print(x_train.shape[0], \"train samples\")\n",
    "print(x_test.shape[0], \"test samples\")\n",
    "\n",
    "\n",
    "# convert class vectors to binary class matrices\n",
    "y_train = keras.utils.to_categorical(y_train, num_classes)\n",
    "y_test = keras.utils.to_categorical(y_test, num_classes)"
   ]
  },
  {
   "cell_type": "code",
   "execution_count": 3,
   "metadata": {},
   "outputs": [
    {
     "name": "stdout",
     "output_type": "stream",
     "text": [
      "Model: \"sequential\"\n",
      "_________________________________________________________________\n",
      " Layer (type)                Output Shape              Param #   \n",
      "=================================================================\n",
      " conv2d (Conv2D)             (None, 26, 26, 32)        320       \n",
      "                                                                 \n",
      " max_pooling2d (MaxPooling2  (None, 13, 13, 32)        0         \n",
      " D)                                                              \n",
      "                                                                 \n",
      " conv2d_1 (Conv2D)           (None, 11, 11, 64)        18496     \n",
      "                                                                 \n",
      " max_pooling2d_1 (MaxPoolin  (None, 5, 5, 64)          0         \n",
      " g2D)                                                            \n",
      "                                                                 \n",
      " flatten (Flatten)           (None, 1600)              0         \n",
      "                                                                 \n",
      " dropout (Dropout)           (None, 1600)              0         \n",
      "                                                                 \n",
      " dense (Dense)               (None, 10)                16010     \n",
      "                                                                 \n",
      "=================================================================\n",
      "Total params: 34826 (136.04 KB)\n",
      "Trainable params: 34826 (136.04 KB)\n",
      "Non-trainable params: 0 (0.00 Byte)\n",
      "_________________________________________________________________\n"
     ]
    }
   ],
   "source": [
    "model = keras.Sequential(\n",
    "    [\n",
    "        keras.Input(shape=input_shape),\n",
    "        layers.Conv2D(32, kernel_size=(3, 3), activation=\"relu\"),\n",
    "        layers.MaxPooling2D(pool_size=(2, 2)),\n",
    "        layers.Conv2D(64, kernel_size=(3, 3), activation=\"relu\"),\n",
    "        layers.MaxPooling2D(pool_size=(2, 2)),\n",
    "        layers.Flatten(),\n",
    "        layers.Dropout(0.5),\n",
    "        layers.Dense(num_classes, activation=\"softmax\"),\n",
    "    ]\n",
    ")\n",
    "\n",
    "model.summary()\n"
   ]
  },
  {
   "cell_type": "code",
   "execution_count": 4,
   "metadata": {},
   "outputs": [
    {
     "name": "stdout",
     "output_type": "stream",
     "text": [
      "Epoch 1/15\n",
      "422/422 [==============================] - 35s 80ms/step - loss: 0.3689 - accuracy: 0.8907 - val_loss: 0.0844 - val_accuracy: 0.9758\n",
      "Epoch 2/15\n",
      "422/422 [==============================] - 36s 86ms/step - loss: 0.1074 - accuracy: 0.9673 - val_loss: 0.0618 - val_accuracy: 0.9817\n",
      "Epoch 3/15\n",
      "422/422 [==============================] - 31s 73ms/step - loss: 0.0809 - accuracy: 0.9745 - val_loss: 0.0480 - val_accuracy: 0.9855\n",
      "Epoch 4/15\n",
      "422/422 [==============================] - 31s 74ms/step - loss: 0.0681 - accuracy: 0.9790 - val_loss: 0.0421 - val_accuracy: 0.9872\n",
      "Epoch 5/15\n",
      "422/422 [==============================] - 30s 70ms/step - loss: 0.0597 - accuracy: 0.9816 - val_loss: 0.0372 - val_accuracy: 0.9892\n",
      "Epoch 6/15\n",
      "422/422 [==============================] - 28s 66ms/step - loss: 0.0555 - accuracy: 0.9829 - val_loss: 0.0362 - val_accuracy: 0.9902\n",
      "Epoch 7/15\n",
      "422/422 [==============================] - 29s 68ms/step - loss: 0.0489 - accuracy: 0.9847 - val_loss: 0.0335 - val_accuracy: 0.9910\n",
      "Epoch 8/15\n",
      "422/422 [==============================] - 29s 68ms/step - loss: 0.0472 - accuracy: 0.9857 - val_loss: 0.0346 - val_accuracy: 0.9892\n",
      "Epoch 9/15\n",
      "422/422 [==============================] - 30s 71ms/step - loss: 0.0417 - accuracy: 0.9865 - val_loss: 0.0348 - val_accuracy: 0.9905\n",
      "Epoch 10/15\n",
      "422/422 [==============================] - 30s 70ms/step - loss: 0.0393 - accuracy: 0.9875 - val_loss: 0.0306 - val_accuracy: 0.9920\n",
      "Epoch 11/15\n",
      "422/422 [==============================] - 29s 68ms/step - loss: 0.0396 - accuracy: 0.9873 - val_loss: 0.0326 - val_accuracy: 0.9908\n",
      "Epoch 12/15\n",
      "422/422 [==============================] - 29s 70ms/step - loss: 0.0364 - accuracy: 0.9881 - val_loss: 0.0308 - val_accuracy: 0.9918\n",
      "Epoch 13/15\n",
      "422/422 [==============================] - 31s 74ms/step - loss: 0.0351 - accuracy: 0.9885 - val_loss: 0.0300 - val_accuracy: 0.9917\n",
      "Epoch 14/15\n",
      "422/422 [==============================] - 31s 73ms/step - loss: 0.0323 - accuracy: 0.9897 - val_loss: 0.0294 - val_accuracy: 0.9922\n",
      "Epoch 15/15\n",
      "422/422 [==============================] - 31s 74ms/step - loss: 0.0323 - accuracy: 0.9894 - val_loss: 0.0280 - val_accuracy: 0.9915\n"
     ]
    },
    {
     "data": {
      "text/plain": [
       "<keras.src.callbacks.History at 0x7f8e06fd2980>"
      ]
     },
     "execution_count": 4,
     "metadata": {},
     "output_type": "execute_result"
    }
   ],
   "source": [
    "batch_size = 128\n",
    "epochs = 15\n",
    "\n",
    "model.compile(loss=\"categorical_crossentropy\", optimizer=\"adam\", metrics=[\"accuracy\"])\n",
    "\n",
    "model.fit(x_train, y_train, batch_size=batch_size, epochs=epochs, validation_split=0.1)\n"
   ]
  },
  {
   "cell_type": "code",
   "execution_count": 5,
   "metadata": {},
   "outputs": [
    {
     "name": "stdout",
     "output_type": "stream",
     "text": [
      "Test loss: 0.026381121948361397\n",
      "Test accuracy: 0.9919000267982483\n"
     ]
    }
   ],
   "source": [
    "score = model.evaluate(x_test, y_test, verbose=0)\n",
    "print(\"Test loss:\", score[0])\n",
    "print(\"Test accuracy:\", score[1])\n"
   ]
  },
  {
   "cell_type": "code",
   "execution_count": 6,
   "metadata": {},
   "outputs": [
    {
     "name": "stdout",
     "output_type": "stream",
     "text": [
      "Width: 28\n",
      "Height: 28\n",
      "Изображение черно-белое.\n",
      "1/1 [==============================] - 0s 139ms/step\n",
      "Predicted digit: 8\n"
     ]
    },
    {
     "data": {
      "image/png": "[encoded data removed]",
      "text/plain": [
       "<Figure size 640x480 with 1 Axes>"
      ]
     },
     "metadata": {},
     "output_type": "display_data"
    }
   ],
   "source": [
    "import tkinter as tk\n",
    "from tkinter import Canvas, Button\n",
    "from PIL import Image, ImageDraw\n",
    "import io\n",
    "\n",
    "# Создаем окно\n",
    "root = tk.Tk()\n",
    "root.title(\"Рисование и сохранение изображения\")\n",
    "\n",
    "# Создаем холст для рисования\n",
    "scale = 10\n",
    "canvas_width = 28 * scale\n",
    "canvas_height = 28 * scale\n",
    "canvas = Canvas(root, width=canvas_width, height=canvas_height, bg=\"white\")\n",
    "canvas.pack()\n",
    "\n",
    "# Создаем изображение и холст для рисования\n",
    "img = Image.new(\"L\", (28, 28), 255)  # 255 - белый цвет\n",
    "draw = ImageDraw.Draw(img)\n",
    "\n",
    "# Переменные для отслеживания движения мыши\n",
    "prev_x, prev_y = None, None\n",
    "\n",
    "# Функция для рисования\n",
    "def paint(event):\n",
    "    global prev_x, prev_y\n",
    "    x, y = event.x // scale, event.y // scale\n",
    "\n",
    "    if prev_x and prev_y:\n",
    "        draw.line((prev_x, prev_y, x, y), fill=0, width=1)\n",
    "        canvas.create_line(prev_x * scale, prev_y * scale, x * scale, y * scale, fill=\"black\", width=2)\n",
    "\n",
    "    prev_x, prev_y = x, y\n",
    "\n",
    "# Функция для сброса переменных при отпускании кнопки мыши\n",
    "def release(event):\n",
    "    global prev_x, prev_y\n",
    "    prev_x, prev_y = None, None\n",
    "\n",
    "# Привязываем события\n",
    "canvas.bind(\"<B1-Motion>\", paint)\n",
    "canvas.bind(\"<ButtonRelease-1>\", release)\n",
    "\n",
    "# Функция для обработки нажатия кнопки \"OK\"\n",
    "def save_image():\n",
    "    # Масштабируем изображение до 28x28\n",
    "    img_data = img.resize((28, 28))\n",
    "    # img_data = img_data.rotate(-90)  # Повернуть изображение\n",
    "    img_data.save(\"/home/misha/Изображения/temp.png\")\n",
    "    root.destroy()\n",
    "\n",
    "# Создаем кнопку \"OK\"\n",
    "ok_button = Button(root, text=\"OK\", command=save_image)\n",
    "ok_button.pack()\n",
    "\n",
    "# Запускаем приложение Tkinter\n",
    "root.mainloop()\n",
    "\n",
    "# Загрузите ваше изображение и измените его размер до 28x28 пикселей\n",
    "image = Image.open('/home/misha/Изображения/temp.png')  # Замените \"your_image.jpg\" на путь к вашему изображению\n",
    "image = image.resize((28, 28))\n",
    "# Получим размер изображения\n",
    "width, height = image.size\n",
    "\n",
    "# Выведем размер изображения\n",
    "print(\"Width:\", width)\n",
    "print(\"Height:\", height)\n",
    "\n",
    "# Загрузите изображение\n",
    "image = cv2.imread('/home/misha/Изображения/temp.png', cv2.IMREAD_UNCHANGED)\n",
    "\n",
    "# Проверьте количество каналов\n",
    "num_channels = image.shape[2] if len(image.shape) == 3 else 1\n",
    "\n",
    "if num_channels == 1:\n",
    "    print(\"Изображение черно-белое.\")\n",
    "else:\n",
    "    print(\"Изображение цветное.\")\n",
    "\n",
    "# Загрузите ваше изображение\n",
    "image = Image.open(\"/home/misha/Изображения/temp.png\")\n",
    "\n",
    "# Преобразуйте изображение в формат NumPy и выполните масштабирование\n",
    "your_image = np.array(image)  # Преобразование в NumPy-массив\n",
    "your_image = your_image.astype(\"float32\") / 255  # Масштабирование пикселей в диапазон [0, 1]\n",
    "\n",
    "# Убедитесь, что изображение имеет размерность (28, 28, 1)\n",
    "# your_image = your_image.reshape((28, 28, 1))\n",
    "your_image = np.expand_dims(your_image, axis=-1)\n",
    "\n",
    "plt.imshow(image, cmap='binary')\n",
    "plt.axis('off')\n",
    "\n",
    "# Выполните инференс\n",
    "predictions = model.predict(np.array([your_image]))\n",
    "\n",
    "# Результат predictions будет вероятностным распределением по классам.\n",
    "# Для получения конкретного числа (предсказанной цифры) можно воспользоваться:\n",
    "predicted_digit = np.argmax(predictions)\n",
    "\n",
    "print(\"Predicted digit:\", predicted_digit)"
   ]
  }
 ],
 "metadata": {
  "kernelspec": {
   "display_name": "env",
   "language": "python",
   "name": "python3"
  },
  "language_info": {
   "codemirror_mode": {
    "name": "ipython",
    "version": 3
   },
   "file_extension": ".py",
   "mimetype": "text/x-python",
   "name": "python",
   "nbconvert_exporter": "python",
   "pygments_lexer": "ipython3",
   "version": "3.10.12"
  }
 },
 "nbformat": 4,
 "nbformat_minor": 2
}

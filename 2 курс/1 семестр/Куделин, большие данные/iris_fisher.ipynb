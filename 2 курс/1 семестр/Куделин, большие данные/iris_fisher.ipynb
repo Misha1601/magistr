{
 "cells": [
  {
   "cell_type": "markdown",
   "metadata": {},
   "source": [
    "импорт библиотек"
   ]
  },
  {
   "cell_type": "code",
   "execution_count": 2,
   "metadata": {},
   "outputs": [
    {
     "name": "stderr",
     "output_type": "stream",
     "text": [
      "2023-09-23 09:12:27.239846: I tensorflow/tsl/cuda/cudart_stub.cc:28] Could not find cuda drivers on your machine, GPU will not be used.\n",
      "2023-09-23 09:12:27.642425: I tensorflow/tsl/cuda/cudart_stub.cc:28] Could not find cuda drivers on your machine, GPU will not be used.\n",
      "2023-09-23 09:12:27.645111: I tensorflow/core/platform/cpu_feature_guard.cc:182] This TensorFlow binary is optimized to use available CPU instructions in performance-critical operations.\n",
      "To enable the following instructions: AVX2 FMA, in other operations, rebuild TensorFlow with the appropriate compiler flags.\n",
      "2023-09-23 09:12:29.514357: W tensorflow/compiler/tf2tensorrt/utils/py_utils.cc:38] TF-TRT Warning: Could not find TensorRT\n"
     ]
    }
   ],
   "source": [
    "import numpy as np\n",
    "import tensorflow as tf\n",
    "from sklearn import datasets\n",
    "from sklearn.model_selection import train_test_split\n",
    "from sklearn.preprocessing import StandardScaler\n",
    "from tensorflow import keras\n",
    "from tensorflow.keras import layers"
   ]
  },
  {
   "cell_type": "markdown",
   "metadata": {},
   "source": [
    "датасет Ирисы Фишера"
   ]
  },
  {
   "cell_type": "code",
   "execution_count": 21,
   "metadata": {},
   "outputs": [
    {
     "data": {
      "text/plain": [
       "50"
      ]
     },
     "execution_count": 21,
     "metadata": {},
     "output_type": "execute_result"
    }
   ],
   "source": [
    "iris = datasets.load_iris()\n",
    "X = iris.data\n",
    "y = iris.target\n",
    "y.tolist().count(2)"
   ]
  },
  {
   "cell_type": "markdown",
   "metadata": {},
   "source": [
    "Разделим данные на обучающий и тестовый наборы"
   ]
  },
  {
   "cell_type": "code",
   "execution_count": 4,
   "metadata": {},
   "outputs": [],
   "source": [
    "X_train, X_test, y_train, y_test = train_test_split(X, y, test_size=0.2, random_state=42)"
   ]
  },
  {
   "cell_type": "markdown",
   "metadata": {},
   "source": [
    "Стандартизируем данные (приведем к среднему = 0 и стандартному отклонению = 1)"
   ]
  },
  {
   "cell_type": "code",
   "execution_count": 5,
   "metadata": {},
   "outputs": [],
   "source": [
    "scaler = StandardScaler()\n",
    "X_train = scaler.fit_transform(X_train)\n",
    "X_test = scaler.transform(X_test)"
   ]
  },
  {
   "cell_type": "markdown",
   "metadata": {},
   "source": [
    "Создаем нейронную сеть"
   ]
  },
  {
   "cell_type": "code",
   "execution_count": 6,
   "metadata": {},
   "outputs": [],
   "source": [
    "model = keras.Sequential([\n",
    "    layers.Dense(64, activation='relu', input_shape=(4,)),\n",
    "    layers.Dense(64, activation='relu'),\n",
    "    layers.Dense(3, activation='softmax')\n",
    "])"
   ]
  },
  {
   "cell_type": "markdown",
   "metadata": {},
   "source": [
    "Компилируем модель"
   ]
  },
  {
   "cell_type": "code",
   "execution_count": 7,
   "metadata": {},
   "outputs": [],
   "source": [
    "model.compile(optimizer='adam', loss='sparse_categorical_crossentropy', metrics=['accuracy'])"
   ]
  },
  {
   "cell_type": "markdown",
   "metadata": {},
   "source": [
    "Обучаем модель на обучающем наборе"
   ]
  },
  {
   "cell_type": "code",
   "execution_count": 8,
   "metadata": {},
   "outputs": [
    {
     "name": "stdout",
     "output_type": "stream",
     "text": [
      "Epoch 1/100\n",
      "7/7 [==============================] - 1s 50ms/step - loss: 1.0945 - accuracy: 0.3519 - val_loss: 0.9778 - val_accuracy: 0.7500\n",
      "Epoch 2/100\n",
      "7/7 [==============================] - 0s 9ms/step - loss: 0.9311 - accuracy: 0.7593 - val_loss: 0.8719 - val_accuracy: 0.8333\n",
      "Epoch 3/100\n",
      "7/7 [==============================] - 0s 9ms/step - loss: 0.7970 - accuracy: 0.7963 - val_loss: 0.7830 - val_accuracy: 0.8333\n",
      "Epoch 4/100\n",
      "7/7 [==============================] - 0s 9ms/step - loss: 0.6852 - accuracy: 0.8241 - val_loss: 0.6989 - val_accuracy: 0.8333\n",
      "Epoch 5/100\n",
      "7/7 [==============================] - 0s 9ms/step - loss: 0.5836 - accuracy: 0.8333 - val_loss: 0.6276 - val_accuracy: 0.8333\n",
      "Epoch 6/100\n",
      "7/7 [==============================] - 0s 10ms/step - loss: 0.5056 - accuracy: 0.8241 - val_loss: 0.5728 - val_accuracy: 0.8333\n",
      "Epoch 7/100\n",
      "7/7 [==============================] - 0s 9ms/step - loss: 0.4451 - accuracy: 0.8241 - val_loss: 0.5295 - val_accuracy: 0.8333\n",
      "Epoch 8/100\n",
      "7/7 [==============================] - 0s 9ms/step - loss: 0.4017 - accuracy: 0.8241 - val_loss: 0.4979 - val_accuracy: 0.8333\n",
      "Epoch 9/100\n",
      "7/7 [==============================] - 0s 9ms/step - loss: 0.3703 - accuracy: 0.8333 - val_loss: 0.4746 - val_accuracy: 0.8333\n",
      "Epoch 10/100\n",
      "7/7 [==============================] - 0s 8ms/step - loss: 0.3461 - accuracy: 0.8426 - val_loss: 0.4551 - val_accuracy: 0.8333\n",
      "Epoch 11/100\n",
      "7/7 [==============================] - 0s 9ms/step - loss: 0.3286 - accuracy: 0.8519 - val_loss: 0.4448 - val_accuracy: 0.9167\n",
      "Epoch 12/100\n",
      "7/7 [==============================] - 0s 8ms/step - loss: 0.3120 - accuracy: 0.8519 - val_loss: 0.4286 - val_accuracy: 0.9167\n",
      "Epoch 13/100\n",
      "7/7 [==============================] - 0s 11ms/step - loss: 0.2994 - accuracy: 0.8519 - val_loss: 0.4130 - val_accuracy: 0.9167\n",
      "Epoch 14/100\n",
      "7/7 [==============================] - 0s 10ms/step - loss: 0.2869 - accuracy: 0.8519 - val_loss: 0.3971 - val_accuracy: 0.9167\n",
      "Epoch 15/100\n",
      "7/7 [==============================] - 0s 9ms/step - loss: 0.2756 - accuracy: 0.8611 - val_loss: 0.3893 - val_accuracy: 0.9167\n",
      "Epoch 16/100\n",
      "7/7 [==============================] - 0s 9ms/step - loss: 0.2646 - accuracy: 0.8611 - val_loss: 0.3758 - val_accuracy: 0.9167\n",
      "Epoch 17/100\n",
      "7/7 [==============================] - 0s 8ms/step - loss: 0.2547 - accuracy: 0.8796 - val_loss: 0.3640 - val_accuracy: 0.9167\n",
      "Epoch 18/100\n",
      "7/7 [==============================] - 0s 8ms/step - loss: 0.2425 - accuracy: 0.9074 - val_loss: 0.3484 - val_accuracy: 0.9167\n",
      "Epoch 19/100\n",
      "7/7 [==============================] - 0s 8ms/step - loss: 0.2315 - accuracy: 0.9167 - val_loss: 0.3372 - val_accuracy: 0.9167\n",
      "Epoch 20/100\n",
      "7/7 [==============================] - 0s 9ms/step - loss: 0.2242 - accuracy: 0.9537 - val_loss: 0.3331 - val_accuracy: 0.9167\n",
      "Epoch 21/100\n",
      "7/7 [==============================] - 0s 8ms/step - loss: 0.2101 - accuracy: 0.9537 - val_loss: 0.3097 - val_accuracy: 0.9167\n",
      "Epoch 22/100\n",
      "7/7 [==============================] - 0s 8ms/step - loss: 0.2009 - accuracy: 0.9444 - val_loss: 0.2933 - val_accuracy: 0.9167\n",
      "Epoch 23/100\n",
      "7/7 [==============================] - 0s 9ms/step - loss: 0.1915 - accuracy: 0.9537 - val_loss: 0.2881 - val_accuracy: 0.9167\n",
      "Epoch 24/100\n",
      "7/7 [==============================] - 0s 9ms/step - loss: 0.1820 - accuracy: 0.9537 - val_loss: 0.2845 - val_accuracy: 0.9167\n",
      "Epoch 25/100\n",
      "7/7 [==============================] - 0s 9ms/step - loss: 0.1744 - accuracy: 0.9630 - val_loss: 0.2795 - val_accuracy: 0.9167\n",
      "Epoch 26/100\n",
      "7/7 [==============================] - 0s 8ms/step - loss: 0.1655 - accuracy: 0.9630 - val_loss: 0.2629 - val_accuracy: 0.9167\n",
      "Epoch 27/100\n",
      "7/7 [==============================] - 0s 8ms/step - loss: 0.1558 - accuracy: 0.9537 - val_loss: 0.2480 - val_accuracy: 0.9167\n",
      "Epoch 28/100\n",
      "7/7 [==============================] - 0s 9ms/step - loss: 0.1491 - accuracy: 0.9537 - val_loss: 0.2422 - val_accuracy: 0.9167\n",
      "Epoch 29/100\n",
      "7/7 [==============================] - 0s 10ms/step - loss: 0.1416 - accuracy: 0.9537 - val_loss: 0.2375 - val_accuracy: 0.9167\n",
      "Epoch 30/100\n",
      "7/7 [==============================] - 0s 8ms/step - loss: 0.1333 - accuracy: 0.9537 - val_loss: 0.2341 - val_accuracy: 0.9167\n",
      "Epoch 31/100\n",
      "7/7 [==============================] - 0s 9ms/step - loss: 0.1271 - accuracy: 0.9537 - val_loss: 0.2274 - val_accuracy: 0.9167\n",
      "Epoch 32/100\n",
      "7/7 [==============================] - 0s 8ms/step - loss: 0.1205 - accuracy: 0.9630 - val_loss: 0.2375 - val_accuracy: 0.9167\n",
      "Epoch 33/100\n",
      "7/7 [==============================] - 0s 8ms/step - loss: 0.1150 - accuracy: 0.9630 - val_loss: 0.2181 - val_accuracy: 0.9167\n",
      "Epoch 34/100\n",
      "7/7 [==============================] - 0s 8ms/step - loss: 0.1101 - accuracy: 0.9630 - val_loss: 0.2164 - val_accuracy: 0.9167\n",
      "Epoch 35/100\n",
      "7/7 [==============================] - 0s 8ms/step - loss: 0.1037 - accuracy: 0.9630 - val_loss: 0.2289 - val_accuracy: 0.9167\n",
      "Epoch 36/100\n",
      "7/7 [==============================] - 0s 8ms/step - loss: 0.0992 - accuracy: 0.9630 - val_loss: 0.2358 - val_accuracy: 0.9167\n",
      "Epoch 37/100\n",
      "7/7 [==============================] - 0s 9ms/step - loss: 0.0966 - accuracy: 0.9630 - val_loss: 0.2241 - val_accuracy: 0.9167\n",
      "Epoch 38/100\n",
      "7/7 [==============================] - 0s 9ms/step - loss: 0.0929 - accuracy: 0.9630 - val_loss: 0.2083 - val_accuracy: 0.9167\n",
      "Epoch 39/100\n",
      "7/7 [==============================] - 0s 9ms/step - loss: 0.0878 - accuracy: 0.9630 - val_loss: 0.2246 - val_accuracy: 0.9167\n",
      "Epoch 40/100\n",
      "7/7 [==============================] - 0s 9ms/step - loss: 0.0854 - accuracy: 0.9537 - val_loss: 0.2395 - val_accuracy: 0.9167\n",
      "Epoch 41/100\n",
      "7/7 [==============================] - 0s 9ms/step - loss: 0.0831 - accuracy: 0.9630 - val_loss: 0.2295 - val_accuracy: 0.9167\n",
      "Epoch 42/100\n",
      "7/7 [==============================] - 0s 9ms/step - loss: 0.0806 - accuracy: 0.9722 - val_loss: 0.2351 - val_accuracy: 0.9167\n",
      "Epoch 43/100\n",
      "7/7 [==============================] - 0s 8ms/step - loss: 0.0775 - accuracy: 0.9722 - val_loss: 0.2185 - val_accuracy: 0.9167\n",
      "Epoch 44/100\n",
      "7/7 [==============================] - 0s 9ms/step - loss: 0.0760 - accuracy: 0.9722 - val_loss: 0.2289 - val_accuracy: 0.9167\n",
      "Epoch 45/100\n",
      "7/7 [==============================] - 0s 9ms/step - loss: 0.0740 - accuracy: 0.9630 - val_loss: 0.2392 - val_accuracy: 0.9167\n",
      "Epoch 46/100\n",
      "7/7 [==============================] - 0s 9ms/step - loss: 0.0718 - accuracy: 0.9722 - val_loss: 0.2226 - val_accuracy: 0.9167\n",
      "Epoch 47/100\n",
      "7/7 [==============================] - 0s 9ms/step - loss: 0.0710 - accuracy: 0.9722 - val_loss: 0.2077 - val_accuracy: 0.9167\n",
      "Epoch 48/100\n",
      "7/7 [==============================] - 0s 8ms/step - loss: 0.0685 - accuracy: 0.9722 - val_loss: 0.2135 - val_accuracy: 0.9167\n",
      "Epoch 49/100\n",
      "7/7 [==============================] - 0s 8ms/step - loss: 0.0667 - accuracy: 0.9815 - val_loss: 0.2471 - val_accuracy: 0.9167\n",
      "Epoch 50/100\n",
      "7/7 [==============================] - 0s 8ms/step - loss: 0.0692 - accuracy: 0.9815 - val_loss: 0.2474 - val_accuracy: 0.9167\n",
      "Epoch 51/100\n",
      "7/7 [==============================] - 0s 8ms/step - loss: 0.0659 - accuracy: 0.9722 - val_loss: 0.2215 - val_accuracy: 0.9167\n",
      "Epoch 52/100\n",
      "7/7 [==============================] - 0s 11ms/step - loss: 0.0644 - accuracy: 0.9722 - val_loss: 0.2228 - val_accuracy: 0.9167\n",
      "Epoch 53/100\n",
      "7/7 [==============================] - 0s 8ms/step - loss: 0.0652 - accuracy: 0.9722 - val_loss: 0.2578 - val_accuracy: 0.9167\n",
      "Epoch 54/100\n",
      "7/7 [==============================] - 0s 9ms/step - loss: 0.0617 - accuracy: 0.9722 - val_loss: 0.2257 - val_accuracy: 0.9167\n",
      "Epoch 55/100\n",
      "7/7 [==============================] - 0s 9ms/step - loss: 0.0604 - accuracy: 0.9722 - val_loss: 0.2254 - val_accuracy: 0.9167\n",
      "Epoch 56/100\n",
      "7/7 [==============================] - 0s 9ms/step - loss: 0.0617 - accuracy: 0.9722 - val_loss: 0.2443 - val_accuracy: 0.9167\n",
      "Epoch 57/100\n",
      "7/7 [==============================] - 0s 9ms/step - loss: 0.0587 - accuracy: 0.9815 - val_loss: 0.2335 - val_accuracy: 0.9167\n",
      "Epoch 58/100\n",
      "7/7 [==============================] - 0s 21ms/step - loss: 0.0579 - accuracy: 0.9722 - val_loss: 0.2285 - val_accuracy: 0.9167\n",
      "Epoch 59/100\n",
      "7/7 [==============================] - 0s 11ms/step - loss: 0.0569 - accuracy: 0.9722 - val_loss: 0.2406 - val_accuracy: 0.9167\n",
      "Epoch 60/100\n",
      "7/7 [==============================] - 0s 9ms/step - loss: 0.0590 - accuracy: 0.9815 - val_loss: 0.2544 - val_accuracy: 0.9167\n",
      "Epoch 61/100\n",
      "7/7 [==============================] - 0s 9ms/step - loss: 0.0563 - accuracy: 0.9815 - val_loss: 0.2257 - val_accuracy: 0.9167\n",
      "Epoch 62/100\n",
      "7/7 [==============================] - 0s 8ms/step - loss: 0.0576 - accuracy: 0.9722 - val_loss: 0.2150 - val_accuracy: 0.9167\n",
      "Epoch 63/100\n",
      "7/7 [==============================] - 0s 9ms/step - loss: 0.0572 - accuracy: 0.9815 - val_loss: 0.2719 - val_accuracy: 0.9167\n",
      "Epoch 64/100\n",
      "7/7 [==============================] - 0s 8ms/step - loss: 0.0553 - accuracy: 0.9815 - val_loss: 0.2550 - val_accuracy: 0.9167\n",
      "Epoch 65/100\n",
      "7/7 [==============================] - 0s 8ms/step - loss: 0.0529 - accuracy: 0.9815 - val_loss: 0.2366 - val_accuracy: 0.9167\n",
      "Epoch 66/100\n",
      "7/7 [==============================] - 0s 9ms/step - loss: 0.0524 - accuracy: 0.9815 - val_loss: 0.2225 - val_accuracy: 0.9167\n",
      "Epoch 67/100\n",
      "7/7 [==============================] - 0s 9ms/step - loss: 0.0556 - accuracy: 0.9722 - val_loss: 0.2528 - val_accuracy: 0.9167\n",
      "Epoch 68/100\n",
      "7/7 [==============================] - 0s 9ms/step - loss: 0.0517 - accuracy: 0.9815 - val_loss: 0.2301 - val_accuracy: 0.9167\n",
      "Epoch 69/100\n",
      "7/7 [==============================] - 0s 9ms/step - loss: 0.0513 - accuracy: 0.9815 - val_loss: 0.2380 - val_accuracy: 0.9167\n",
      "Epoch 70/100\n",
      "7/7 [==============================] - 0s 14ms/step - loss: 0.0515 - accuracy: 0.9815 - val_loss: 0.2619 - val_accuracy: 0.9167\n",
      "Epoch 71/100\n",
      "7/7 [==============================] - 0s 13ms/step - loss: 0.0519 - accuracy: 0.9815 - val_loss: 0.2593 - val_accuracy: 0.9167\n",
      "Epoch 72/100\n",
      "7/7 [==============================] - 0s 13ms/step - loss: 0.0537 - accuracy: 0.9815 - val_loss: 0.2131 - val_accuracy: 0.9167\n",
      "Epoch 73/100\n",
      "7/7 [==============================] - 0s 13ms/step - loss: 0.0515 - accuracy: 0.9722 - val_loss: 0.2539 - val_accuracy: 0.9167\n",
      "Epoch 74/100\n",
      "7/7 [==============================] - 0s 11ms/step - loss: 0.0499 - accuracy: 0.9815 - val_loss: 0.2546 - val_accuracy: 0.9167\n",
      "Epoch 75/100\n",
      "7/7 [==============================] - 0s 12ms/step - loss: 0.0484 - accuracy: 0.9907 - val_loss: 0.2795 - val_accuracy: 0.9167\n",
      "Epoch 76/100\n",
      "7/7 [==============================] - 0s 10ms/step - loss: 0.0493 - accuracy: 0.9815 - val_loss: 0.2478 - val_accuracy: 0.9167\n",
      "Epoch 77/100\n",
      "7/7 [==============================] - 0s 9ms/step - loss: 0.0490 - accuracy: 0.9907 - val_loss: 0.2631 - val_accuracy: 0.9167\n",
      "Epoch 78/100\n",
      "7/7 [==============================] - 0s 8ms/step - loss: 0.0485 - accuracy: 0.9815 - val_loss: 0.2365 - val_accuracy: 0.9167\n",
      "Epoch 79/100\n",
      "7/7 [==============================] - 0s 9ms/step - loss: 0.0480 - accuracy: 0.9815 - val_loss: 0.2552 - val_accuracy: 0.9167\n",
      "Epoch 80/100\n",
      "7/7 [==============================] - 0s 9ms/step - loss: 0.0467 - accuracy: 0.9815 - val_loss: 0.2518 - val_accuracy: 0.9167\n",
      "Epoch 81/100\n",
      "7/7 [==============================] - 0s 9ms/step - loss: 0.0453 - accuracy: 0.9907 - val_loss: 0.2353 - val_accuracy: 0.9167\n",
      "Epoch 82/100\n",
      "7/7 [==============================] - 0s 8ms/step - loss: 0.0461 - accuracy: 0.9907 - val_loss: 0.2353 - val_accuracy: 0.9167\n",
      "Epoch 83/100\n",
      "7/7 [==============================] - 0s 8ms/step - loss: 0.0464 - accuracy: 0.9907 - val_loss: 0.2442 - val_accuracy: 0.9167\n",
      "Epoch 84/100\n",
      "7/7 [==============================] - 0s 9ms/step - loss: 0.0445 - accuracy: 0.9907 - val_loss: 0.2353 - val_accuracy: 0.9167\n",
      "Epoch 85/100\n",
      "7/7 [==============================] - 0s 11ms/step - loss: 0.0457 - accuracy: 0.9815 - val_loss: 0.2586 - val_accuracy: 0.9167\n",
      "Epoch 86/100\n",
      "7/7 [==============================] - 0s 8ms/step - loss: 0.0452 - accuracy: 0.9815 - val_loss: 0.2414 - val_accuracy: 0.9167\n",
      "Epoch 87/100\n",
      "7/7 [==============================] - 0s 12ms/step - loss: 0.0432 - accuracy: 0.9907 - val_loss: 0.2513 - val_accuracy: 0.9167\n",
      "Epoch 88/100\n",
      "7/7 [==============================] - 0s 8ms/step - loss: 0.0449 - accuracy: 0.9815 - val_loss: 0.2601 - val_accuracy: 0.9167\n",
      "Epoch 89/100\n",
      "7/7 [==============================] - 0s 11ms/step - loss: 0.0432 - accuracy: 0.9907 - val_loss: 0.2378 - val_accuracy: 0.9167\n",
      "Epoch 90/100\n",
      "7/7 [==============================] - 0s 8ms/step - loss: 0.0426 - accuracy: 0.9907 - val_loss: 0.2310 - val_accuracy: 0.9167\n",
      "Epoch 91/100\n",
      "7/7 [==============================] - 0s 9ms/step - loss: 0.0456 - accuracy: 0.9815 - val_loss: 0.2125 - val_accuracy: 0.9167\n",
      "Epoch 92/100\n",
      "7/7 [==============================] - 0s 9ms/step - loss: 0.0431 - accuracy: 0.9907 - val_loss: 0.2594 - val_accuracy: 0.9167\n",
      "Epoch 93/100\n",
      "7/7 [==============================] - 0s 9ms/step - loss: 0.0451 - accuracy: 0.9815 - val_loss: 0.2643 - val_accuracy: 0.9167\n",
      "Epoch 94/100\n",
      "7/7 [==============================] - 0s 9ms/step - loss: 0.0428 - accuracy: 0.9815 - val_loss: 0.2120 - val_accuracy: 0.9167\n",
      "Epoch 95/100\n",
      "7/7 [==============================] - 0s 8ms/step - loss: 0.0428 - accuracy: 0.9907 - val_loss: 0.2190 - val_accuracy: 0.9167\n",
      "Epoch 96/100\n",
      "7/7 [==============================] - 0s 8ms/step - loss: 0.0421 - accuracy: 0.9907 - val_loss: 0.2201 - val_accuracy: 0.9167\n",
      "Epoch 97/100\n",
      "7/7 [==============================] - 0s 9ms/step - loss: 0.0396 - accuracy: 0.9907 - val_loss: 0.2369 - val_accuracy: 0.9167\n",
      "Epoch 98/100\n",
      "7/7 [==============================] - 0s 12ms/step - loss: 0.0433 - accuracy: 0.9815 - val_loss: 0.2686 - val_accuracy: 0.9167\n",
      "Epoch 99/100\n",
      "7/7 [==============================] - 0s 9ms/step - loss: 0.0419 - accuracy: 0.9815 - val_loss: 0.2455 - val_accuracy: 0.9167\n",
      "Epoch 100/100\n",
      "7/7 [==============================] - 0s 9ms/step - loss: 0.0407 - accuracy: 0.9907 - val_loss: 0.2384 - val_accuracy: 0.9167\n"
     ]
    },
    {
     "data": {
      "text/plain": [
       "<keras.src.callbacks.History at 0x7f291284ac50>"
      ]
     },
     "execution_count": 8,
     "metadata": {},
     "output_type": "execute_result"
    }
   ],
   "source": [
    "model.fit(X_train, y_train, epochs=100, batch_size=16, validation_split=0.1)"
   ]
  },
  {
   "cell_type": "markdown",
   "metadata": {},
   "source": [
    "Оцениваем производительность модели на тестовом наборе данных"
   ]
  },
  {
   "cell_type": "code",
   "execution_count": 9,
   "metadata": {},
   "outputs": [
    {
     "name": "stdout",
     "output_type": "stream",
     "text": [
      "1/1 [==============================] - 0s 36ms/step - loss: 0.0185 - accuracy: 1.0000\n",
      "Точность на тестовом наборе данных: 1.0000\n"
     ]
    }
   ],
   "source": [
    "test_loss, test_accuracy = model.evaluate(X_test, y_test)\n",
    "print(f\"Точность на тестовом наборе данных: {test_accuracy:.4f}\")"
   ]
  },
  {
   "cell_type": "markdown",
   "metadata": {},
   "source": [
    "Предположим, у вас есть новые данные для ириса, которые вы хотите классифицировать"
   ]
  },
  {
   "cell_type": "code",
   "execution_count": 10,
   "metadata": {},
   "outputs": [],
   "source": [
    "new_data = np.array([[4.7, 3.4, 1.7, 0.2]])"
   ]
  },
  {
   "cell_type": "markdown",
   "metadata": {},
   "source": [
    "Стандартизируем новые данные так же, как и обучающие данные"
   ]
  },
  {
   "cell_type": "code",
   "execution_count": 11,
   "metadata": {},
   "outputs": [],
   "source": [
    "new_data = scaler.transform(new_data)"
   ]
  },
  {
   "cell_type": "markdown",
   "metadata": {},
   "source": [
    "Используем обученную модель для классификации новых данных"
   ]
  },
  {
   "cell_type": "code",
   "execution_count": 12,
   "metadata": {},
   "outputs": [
    {
     "name": "stdout",
     "output_type": "stream",
     "text": [
      "1/1 [==============================] - 0s 153ms/step\n"
     ]
    }
   ],
   "source": [
    "predictions = model.predict(new_data)"
   ]
  },
  {
   "cell_type": "markdown",
   "metadata": {},
   "source": [
    "Получим индекс класса с наибольшей вероятностью"
   ]
  },
  {
   "cell_type": "code",
   "execution_count": 13,
   "metadata": {},
   "outputs": [],
   "source": [
    "predicted_class_index = np.argmax(predictions)"
   ]
  },
  {
   "cell_type": "markdown",
   "metadata": {},
   "source": [
    "Получим исходное название класса на основе индекса"
   ]
  },
  {
   "cell_type": "code",
   "execution_count": 14,
   "metadata": {},
   "outputs": [
    {
     "name": "stdout",
     "output_type": "stream",
     "text": [
      "Модель предсказывает, что это ирис: Setosa\n"
     ]
    }
   ],
   "source": [
    "iris_classes = ['Setosa', 'Versicolor', 'Virginica']\n",
    "predicted_class = iris_classes[predicted_class_index]\n",
    "\n",
    "print(f\"Модель предсказывает, что это ирис: {predicted_class}\")"
   ]
  }
 ],
 "metadata": {
  "kernelspec": {
   "display_name": "env",
   "language": "python",
   "name": "python3"
  },
  "language_info": {
   "codemirror_mode": {
    "name": "ipython",
    "version": 3
   },
   "file_extension": ".py",
   "mimetype": "text/x-python",
   "name": "python",
   "nbconvert_exporter": "python",
   "pygments_lexer": "ipython3",
   "version": "3.10.12"
  },
  "orig_nbformat": 4
 },
 "nbformat": 4,
 "nbformat_minor": 2
}
